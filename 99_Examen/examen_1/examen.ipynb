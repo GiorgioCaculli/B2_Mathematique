{
 "cells": [
  {
   "cell_type": "markdown",
   "source": [
    "# Examen Math - Caculli Giorgio LA196672"
   ],
   "metadata": {
    "collapsed": false,
    "pycharm": {
     "name": "#%% md\n"
    }
   }
  },
  {
   "cell_type": "code",
   "execution_count": 1,
   "metadata": {},
   "outputs": [],
   "source": [
    "import numpy as np\n",
    "import pandas as pd\n",
    "import seaborn as sns\n",
    "import matplotlib.pyplot as plt\n",
    "from sklearn.feature_selection import RFECV\n",
    "from sklearn.model_selection import KFold, cross_val_score\n",
    "from sklearn.metrics import r2_score\n",
    "from sklearn.linear_model import LinearRegression\n",
    "%matplotlib inline"
   ]
  },
  {
   "cell_type": "markdown",
   "metadata": {},
   "source": [
    "# Lecture du fichier de données"
   ]
  },
  {
   "cell_type": "code",
   "execution_count": 2,
   "metadata": {},
   "outputs": [],
   "source": [
    "PATH = \"abalone_clean.csv\"\n",
    "abalone = pd.read_csv(PATH)"
   ]
  },
  {
   "cell_type": "markdown",
   "metadata": {},
   "source": [
    "# Analyse des données"
   ]
  },
  {
   "cell_type": "markdown",
   "source": [
    "On affiche les données stockés dans le fichier CSV"
   ],
   "metadata": {
    "collapsed": false,
    "pycharm": {
     "name": "#%% md\n"
    }
   }
  },
  {
   "cell_type": "code",
   "execution_count": 3,
   "outputs": [
    {
     "data": {
      "text/plain": "(4177, 8)"
     },
     "execution_count": 3,
     "metadata": {},
     "output_type": "execute_result"
    }
   ],
   "source": [
    "abalone.shape"
   ],
   "metadata": {
    "collapsed": false,
    "pycharm": {
     "name": "#%%\n"
    }
   }
  },
  {
   "cell_type": "code",
   "execution_count": 4,
   "outputs": [
    {
     "name": "stdout",
     "output_type": "stream",
     "text": [
      "<class 'pandas.core.frame.DataFrame'>\n",
      "RangeIndex: 4177 entries, 0 to 4176\n",
      "Data columns (total 8 columns):\n",
      " #   Column                      Non-Null Count  Dtype  \n",
      "---  ------                      --------------  -----  \n",
      " 0   Sex                         4177 non-null   object \n",
      " 1    Longest Shell measurement  4177 non-null   float64\n",
      " 2   Diameter                    4177 non-null   float64\n",
      " 3   Height                      4177 non-null   float64\n",
      " 4   Weight of whole             4177 non-null   float64\n",
      " 5   Weight of meat              4177 non-null   float64\n",
      " 6   Shell weight                4177 non-null   float64\n",
      " 7   Rings                       4177 non-null   int64  \n",
      "dtypes: float64(6), int64(1), object(1)\n",
      "memory usage: 261.2+ KB\n"
     ]
    }
   ],
   "source": [
    "abalone.info()"
   ],
   "metadata": {
    "collapsed": false,
    "pycharm": {
     "name": "#%%\n"
    }
   }
  },
  {
   "cell_type": "code",
   "execution_count": 5,
   "outputs": [
    {
     "data": {
      "text/plain": "  Sex   Longest Shell measurement  Diameter  Height  Weight of whole  \\\n0   M                       0.455     0.365   0.095           0.5140   \n1   M                       0.350     0.265   0.090           0.2255   \n2   F                       0.530     0.420   0.135           0.6770   \n3   M                       0.440     0.365   0.125           0.5160   \n4   I                       0.330     0.255   0.080           0.2050   \n\n   Weight of meat  Shell weight  Rings  \n0          0.2245         0.150     15  \n1          0.0995         0.070      7  \n2          0.2565         0.210      9  \n3          0.2155         0.155     10  \n4          0.0895         0.055      7  ",
      "text/html": "<div>\n<style scoped>\n    .dataframe tbody tr th:only-of-type {\n        vertical-align: middle;\n    }\n\n    .dataframe tbody tr th {\n        vertical-align: top;\n    }\n\n    .dataframe thead th {\n        text-align: right;\n    }\n</style>\n<table border=\"1\" class=\"dataframe\">\n  <thead>\n    <tr style=\"text-align: right;\">\n      <th></th>\n      <th>Sex</th>\n      <th>Longest Shell measurement</th>\n      <th>Diameter</th>\n      <th>Height</th>\n      <th>Weight of whole</th>\n      <th>Weight of meat</th>\n      <th>Shell weight</th>\n      <th>Rings</th>\n    </tr>\n  </thead>\n  <tbody>\n    <tr>\n      <th>0</th>\n      <td>M</td>\n      <td>0.455</td>\n      <td>0.365</td>\n      <td>0.095</td>\n      <td>0.5140</td>\n      <td>0.2245</td>\n      <td>0.150</td>\n      <td>15</td>\n    </tr>\n    <tr>\n      <th>1</th>\n      <td>M</td>\n      <td>0.350</td>\n      <td>0.265</td>\n      <td>0.090</td>\n      <td>0.2255</td>\n      <td>0.0995</td>\n      <td>0.070</td>\n      <td>7</td>\n    </tr>\n    <tr>\n      <th>2</th>\n      <td>F</td>\n      <td>0.530</td>\n      <td>0.420</td>\n      <td>0.135</td>\n      <td>0.6770</td>\n      <td>0.2565</td>\n      <td>0.210</td>\n      <td>9</td>\n    </tr>\n    <tr>\n      <th>3</th>\n      <td>M</td>\n      <td>0.440</td>\n      <td>0.365</td>\n      <td>0.125</td>\n      <td>0.5160</td>\n      <td>0.2155</td>\n      <td>0.155</td>\n      <td>10</td>\n    </tr>\n    <tr>\n      <th>4</th>\n      <td>I</td>\n      <td>0.330</td>\n      <td>0.255</td>\n      <td>0.080</td>\n      <td>0.2050</td>\n      <td>0.0895</td>\n      <td>0.055</td>\n      <td>7</td>\n    </tr>\n  </tbody>\n</table>\n</div>"
     },
     "execution_count": 5,
     "metadata": {},
     "output_type": "execute_result"
    }
   ],
   "source": [
    "abalone.head()"
   ],
   "metadata": {
    "collapsed": false,
    "pycharm": {
     "name": "#%%\n"
    }
   }
  },
  {
   "cell_type": "code",
   "execution_count": 6,
   "outputs": [
    {
     "data": {
      "text/plain": "        Longest Shell measurement     Diameter       Height  Weight of whole  \\\ncount                 4177.000000  4177.000000  4177.000000      4177.000000   \nmean                     0.523992     0.407881     0.139516         0.828742   \nstd                      0.120093     0.099240     0.041827         0.490389   \nmin                      0.075000     0.055000     0.000000         0.002000   \n25%                      0.450000     0.350000     0.115000         0.441500   \n50%                      0.545000     0.425000     0.140000         0.799500   \n75%                      0.615000     0.480000     0.165000         1.153000   \nmax                      0.815000     0.650000     1.130000         2.825500   \n\n       Weight of meat  Shell weight        Rings  \ncount     4177.000000   4177.000000  4177.000000  \nmean         0.359367      0.238831     9.933684  \nstd          0.221963      0.139203     3.224169  \nmin          0.001000      0.001500     1.000000  \n25%          0.186000      0.130000     8.000000  \n50%          0.336000      0.234000     9.000000  \n75%          0.502000      0.329000    11.000000  \nmax          1.488000      1.005000    29.000000  ",
      "text/html": "<div>\n<style scoped>\n    .dataframe tbody tr th:only-of-type {\n        vertical-align: middle;\n    }\n\n    .dataframe tbody tr th {\n        vertical-align: top;\n    }\n\n    .dataframe thead th {\n        text-align: right;\n    }\n</style>\n<table border=\"1\" class=\"dataframe\">\n  <thead>\n    <tr style=\"text-align: right;\">\n      <th></th>\n      <th>Longest Shell measurement</th>\n      <th>Diameter</th>\n      <th>Height</th>\n      <th>Weight of whole</th>\n      <th>Weight of meat</th>\n      <th>Shell weight</th>\n      <th>Rings</th>\n    </tr>\n  </thead>\n  <tbody>\n    <tr>\n      <th>count</th>\n      <td>4177.000000</td>\n      <td>4177.000000</td>\n      <td>4177.000000</td>\n      <td>4177.000000</td>\n      <td>4177.000000</td>\n      <td>4177.000000</td>\n      <td>4177.000000</td>\n    </tr>\n    <tr>\n      <th>mean</th>\n      <td>0.523992</td>\n      <td>0.407881</td>\n      <td>0.139516</td>\n      <td>0.828742</td>\n      <td>0.359367</td>\n      <td>0.238831</td>\n      <td>9.933684</td>\n    </tr>\n    <tr>\n      <th>std</th>\n      <td>0.120093</td>\n      <td>0.099240</td>\n      <td>0.041827</td>\n      <td>0.490389</td>\n      <td>0.221963</td>\n      <td>0.139203</td>\n      <td>3.224169</td>\n    </tr>\n    <tr>\n      <th>min</th>\n      <td>0.075000</td>\n      <td>0.055000</td>\n      <td>0.000000</td>\n      <td>0.002000</td>\n      <td>0.001000</td>\n      <td>0.001500</td>\n      <td>1.000000</td>\n    </tr>\n    <tr>\n      <th>25%</th>\n      <td>0.450000</td>\n      <td>0.350000</td>\n      <td>0.115000</td>\n      <td>0.441500</td>\n      <td>0.186000</td>\n      <td>0.130000</td>\n      <td>8.000000</td>\n    </tr>\n    <tr>\n      <th>50%</th>\n      <td>0.545000</td>\n      <td>0.425000</td>\n      <td>0.140000</td>\n      <td>0.799500</td>\n      <td>0.336000</td>\n      <td>0.234000</td>\n      <td>9.000000</td>\n    </tr>\n    <tr>\n      <th>75%</th>\n      <td>0.615000</td>\n      <td>0.480000</td>\n      <td>0.165000</td>\n      <td>1.153000</td>\n      <td>0.502000</td>\n      <td>0.329000</td>\n      <td>11.000000</td>\n    </tr>\n    <tr>\n      <th>max</th>\n      <td>0.815000</td>\n      <td>0.650000</td>\n      <td>1.130000</td>\n      <td>2.825500</td>\n      <td>1.488000</td>\n      <td>1.005000</td>\n      <td>29.000000</td>\n    </tr>\n  </tbody>\n</table>\n</div>"
     },
     "execution_count": 6,
     "metadata": {},
     "output_type": "execute_result"
    }
   ],
   "source": [
    "abalone.describe()"
   ],
   "metadata": {
    "collapsed": false,
    "pycharm": {
     "name": "#%%\n"
    }
   }
  },
  {
   "cell_type": "markdown",
   "metadata": {},
   "source": [
    "# Déterminer les meilleurs paramètres ou features"
   ]
  },
  {
   "cell_type": "markdown",
   "source": [
    "On initialise les \"features\" avec lesquelles on va travailler"
   ],
   "metadata": {
    "collapsed": false,
    "pycharm": {
     "name": "#%% md\n"
    }
   }
  },
  {
   "cell_type": "code",
   "execution_count": 7,
   "metadata": {},
   "outputs": [],
   "source": [
    "features = [' Longest Shell measurement', 'Diameter', 'Height', 'Weight of whole', 'Weight of meat', 'Shell weight']"
   ]
  },
  {
   "cell_type": "markdown",
   "source": [
    "On determine que \"Age\" est la valeur avec laquelle on souhaite travailler"
   ],
   "metadata": {
    "collapsed": false,
    "pycharm": {
     "name": "#%% md\n"
    }
   }
  },
  {
   "cell_type": "code",
   "execution_count": 8,
   "outputs": [],
   "source": [
    "name_target = 'Age'"
   ],
   "metadata": {
    "collapsed": false,
    "pycharm": {
     "name": "#%%\n"
    }
   }
  },
  {
   "cell_type": "markdown",
   "source": [
    "Etant donné que le \"Sexe\" est marqué par une lettre on le convertira en nombres pour l'analyser"
   ],
   "metadata": {
    "collapsed": false,
    "pycharm": {
     "name": "#%% md\n"
    }
   }
  },
  {
   "cell_type": "code",
   "execution_count": 9,
   "outputs": [],
   "source": [
    "sex_dummies = pd.get_dummies(abalone['Sex'], prefix='Sex_')\n",
    "\n",
    "abalone = pd.concat([abalone, sex_dummies], axis=1)"
   ],
   "metadata": {
    "collapsed": false,
    "pycharm": {
     "name": "#%%\n"
    }
   }
  },
  {
   "cell_type": "markdown",
   "source": [
    "On rempli la colonne \"Age\" avec des valeurs, ici, le nombre de rings + 1.5"
   ],
   "metadata": {
    "collapsed": false,
    "pycharm": {
     "name": "#%% md\n"
    }
   }
  },
  {
   "cell_type": "code",
   "execution_count": 10,
   "outputs": [],
   "source": [
    "abalone[name_target] = abalone['Rings'].apply(lambda age: age + 1.5)"
   ],
   "metadata": {
    "collapsed": false,
    "pycharm": {
     "name": "#%%\n"
    }
   }
  },
  {
   "cell_type": "markdown",
   "source": [
    "On mélange les informations pour pouvoir en tirer des tranches de données que l'on analysera"
   ],
   "metadata": {
    "collapsed": false,
    "pycharm": {
     "name": "#%% md\n"
    }
   }
  },
  {
   "cell_type": "code",
   "execution_count": 11,
   "outputs": [],
   "source": [
    "indices = np.random.permutation(abalone.index)\n",
    "length_data = abalone.shape[0]\n",
    "limit_train = int(length_data * 0.80)\n",
    "train = abalone.iloc[:limit_train]\n",
    "test = abalone.iloc[limit_train:]"
   ],
   "metadata": {
    "collapsed": false,
    "pycharm": {
     "name": "#%%\n"
    }
   }
  },
  {
   "cell_type": "markdown",
   "source": [
    "On initialise un vecteur contenant les différents types de sexes rencontrés, ici M, F et I."
   ],
   "metadata": {
    "collapsed": false,
    "pycharm": {
     "name": "#%% md\n"
    }
   }
  },
  {
   "cell_type": "code",
   "execution_count": 12,
   "outputs": [
    {
     "data": {
      "text/plain": "['Sex__F', 'Sex__I', 'Sex__M']"
     },
     "execution_count": 12,
     "metadata": {},
     "output_type": "execute_result"
    }
   ],
   "source": [
    "sexes = [sex for sex in abalone.columns if sex.startswith('Sex_')]\n",
    "sexes"
   ],
   "metadata": {
    "collapsed": false,
    "pycharm": {
     "name": "#%%\n"
    }
   }
  },
  {
   "cell_type": "markdown",
   "source": [
    "On crée les valeurs de y"
   ],
   "metadata": {
    "collapsed": false,
    "pycharm": {
     "name": "#%% md\n"
    }
   }
  },
  {
   "cell_type": "code",
   "execution_count": 13,
   "outputs": [],
   "source": [
    "target = train[name_target]"
   ],
   "metadata": {
    "collapsed": false,
    "pycharm": {
     "name": "#%%\n"
    }
   }
  },
  {
   "cell_type": "markdown",
   "source": [
    "On ajoute aux features à analyser les différents sexes sous formes de 0 ou 1"
   ],
   "metadata": {
    "collapsed": false,
    "pycharm": {
     "name": "#%% md\n"
    }
   }
  },
  {
   "cell_type": "code",
   "execution_count": 14,
   "outputs": [],
   "source": [
    "all_features = features + sexes"
   ],
   "metadata": {
    "collapsed": false,
    "pycharm": {
     "name": "#%%\n"
    }
   }
  },
  {
   "cell_type": "markdown",
   "source": [
    "On affiche le nouveau tableau avec les différents sexes"
   ],
   "metadata": {
    "collapsed": false,
    "pycharm": {
     "name": "#%% md\n"
    }
   }
  },
  {
   "cell_type": "code",
   "execution_count": 15,
   "outputs": [
    {
     "data": {
      "text/plain": "  Sex   Longest Shell measurement  Diameter  Height  Weight of whole  \\\n0   M                       0.455     0.365   0.095           0.5140   \n1   M                       0.350     0.265   0.090           0.2255   \n2   F                       0.530     0.420   0.135           0.6770   \n3   M                       0.440     0.365   0.125           0.5160   \n4   I                       0.330     0.255   0.080           0.2050   \n\n   Weight of meat  Shell weight  Rings  Sex__F  Sex__I  Sex__M   Age  \n0          0.2245         0.150     15       0       0       1  16.5  \n1          0.0995         0.070      7       0       0       1   8.5  \n2          0.2565         0.210      9       1       0       0  10.5  \n3          0.2155         0.155     10       0       0       1  11.5  \n4          0.0895         0.055      7       0       1       0   8.5  ",
      "text/html": "<div>\n<style scoped>\n    .dataframe tbody tr th:only-of-type {\n        vertical-align: middle;\n    }\n\n    .dataframe tbody tr th {\n        vertical-align: top;\n    }\n\n    .dataframe thead th {\n        text-align: right;\n    }\n</style>\n<table border=\"1\" class=\"dataframe\">\n  <thead>\n    <tr style=\"text-align: right;\">\n      <th></th>\n      <th>Sex</th>\n      <th>Longest Shell measurement</th>\n      <th>Diameter</th>\n      <th>Height</th>\n      <th>Weight of whole</th>\n      <th>Weight of meat</th>\n      <th>Shell weight</th>\n      <th>Rings</th>\n      <th>Sex__F</th>\n      <th>Sex__I</th>\n      <th>Sex__M</th>\n      <th>Age</th>\n    </tr>\n  </thead>\n  <tbody>\n    <tr>\n      <th>0</th>\n      <td>M</td>\n      <td>0.455</td>\n      <td>0.365</td>\n      <td>0.095</td>\n      <td>0.5140</td>\n      <td>0.2245</td>\n      <td>0.150</td>\n      <td>15</td>\n      <td>0</td>\n      <td>0</td>\n      <td>1</td>\n      <td>16.5</td>\n    </tr>\n    <tr>\n      <th>1</th>\n      <td>M</td>\n      <td>0.350</td>\n      <td>0.265</td>\n      <td>0.090</td>\n      <td>0.2255</td>\n      <td>0.0995</td>\n      <td>0.070</td>\n      <td>7</td>\n      <td>0</td>\n      <td>0</td>\n      <td>1</td>\n      <td>8.5</td>\n    </tr>\n    <tr>\n      <th>2</th>\n      <td>F</td>\n      <td>0.530</td>\n      <td>0.420</td>\n      <td>0.135</td>\n      <td>0.6770</td>\n      <td>0.2565</td>\n      <td>0.210</td>\n      <td>9</td>\n      <td>1</td>\n      <td>0</td>\n      <td>0</td>\n      <td>10.5</td>\n    </tr>\n    <tr>\n      <th>3</th>\n      <td>M</td>\n      <td>0.440</td>\n      <td>0.365</td>\n      <td>0.125</td>\n      <td>0.5160</td>\n      <td>0.2155</td>\n      <td>0.155</td>\n      <td>10</td>\n      <td>0</td>\n      <td>0</td>\n      <td>1</td>\n      <td>11.5</td>\n    </tr>\n    <tr>\n      <th>4</th>\n      <td>I</td>\n      <td>0.330</td>\n      <td>0.255</td>\n      <td>0.080</td>\n      <td>0.2050</td>\n      <td>0.0895</td>\n      <td>0.055</td>\n      <td>7</td>\n      <td>0</td>\n      <td>1</td>\n      <td>0</td>\n      <td>8.5</td>\n    </tr>\n  </tbody>\n</table>\n</div>"
     },
     "execution_count": 15,
     "metadata": {},
     "output_type": "execute_result"
    }
   ],
   "source": [
    "abalone.head()"
   ],
   "metadata": {
    "collapsed": false,
    "pycharm": {
     "name": "#%%\n"
    }
   }
  },
  {
   "cell_type": "markdown",
   "source": [
    "On calcule la corrélation et on affiche un graphique représentant les différentes relations"
   ],
   "metadata": {
    "collapsed": false,
    "pycharm": {
     "name": "#%% md\n"
    }
   }
  },
  {
   "cell_type": "code",
   "execution_count": 16,
   "outputs": [
    {
     "data": {
      "text/plain": "                             Longest Shell measurement  Diameter    Height  \\\n Longest Shell measurement                    1.000000  0.986812  0.827554   \nDiameter                                      0.986812  1.000000  0.833684   \nHeight                                        0.827554  0.833684  1.000000   \nWeight of whole                               0.925261  0.925452  0.819221   \nWeight of meat                                0.897914  0.893162  0.774972   \nShell weight                                  0.897706  0.905330  0.817338   \nRings                                         0.556720  0.574660  0.557467   \nSex__F                                        0.309666  0.318626  0.298421   \nSex__I                                       -0.551465 -0.564315 -0.518552   \nSex__M                                        0.236543  0.240376  0.215459   \nAge                                           0.556720  0.574660  0.557467   \n\n                            Weight of whole  Weight of meat  Shell weight  \\\n Longest Shell measurement         0.925261        0.897914      0.897706   \nDiameter                           0.925452        0.893162      0.905330   \nHeight                             0.819221        0.774972      0.817338   \nWeight of whole                    1.000000        0.969405      0.955355   \nWeight of meat                     0.969405        1.000000      0.882617   \nShell weight                       0.955355        0.882617      1.000000   \nRings                              0.540390        0.420884      0.627574   \nSex__F                             0.299741        0.263991      0.306319   \nSex__I                            -0.557592       -0.521842     -0.546953   \nSex__M                             0.252038        0.251793      0.235391   \nAge                                0.540390        0.420884      0.627574   \n\n                               Rings    Sex__F    Sex__I    Sex__M       Age  \n Longest Shell measurement  0.556720  0.309666 -0.551465  0.236543  0.556720  \nDiameter                    0.574660  0.318626 -0.564315  0.240376  0.574660  \nHeight                      0.557467  0.298421 -0.518552  0.215459  0.557467  \nWeight of whole             0.540390  0.299741 -0.557592  0.252038  0.540390  \nWeight of meat              0.420884  0.263991 -0.521842  0.251793  0.420884  \nShell weight                0.627574  0.306319 -0.546953  0.235391  0.627574  \nRings                       1.000000  0.250279 -0.436063  0.181831  1.000000  \nSex__F                      0.250279  1.000000 -0.464298 -0.512528  0.250279  \nSex__I                     -0.436063 -0.464298  1.000000 -0.522541 -0.436063  \nSex__M                      0.181831 -0.512528 -0.522541  1.000000  0.181831  \nAge                         1.000000  0.250279 -0.436063  0.181831  1.000000  ",
      "text/html": "<div>\n<style scoped>\n    .dataframe tbody tr th:only-of-type {\n        vertical-align: middle;\n    }\n\n    .dataframe tbody tr th {\n        vertical-align: top;\n    }\n\n    .dataframe thead th {\n        text-align: right;\n    }\n</style>\n<table border=\"1\" class=\"dataframe\">\n  <thead>\n    <tr style=\"text-align: right;\">\n      <th></th>\n      <th>Longest Shell measurement</th>\n      <th>Diameter</th>\n      <th>Height</th>\n      <th>Weight of whole</th>\n      <th>Weight of meat</th>\n      <th>Shell weight</th>\n      <th>Rings</th>\n      <th>Sex__F</th>\n      <th>Sex__I</th>\n      <th>Sex__M</th>\n      <th>Age</th>\n    </tr>\n  </thead>\n  <tbody>\n    <tr>\n      <th>Longest Shell measurement</th>\n      <td>1.000000</td>\n      <td>0.986812</td>\n      <td>0.827554</td>\n      <td>0.925261</td>\n      <td>0.897914</td>\n      <td>0.897706</td>\n      <td>0.556720</td>\n      <td>0.309666</td>\n      <td>-0.551465</td>\n      <td>0.236543</td>\n      <td>0.556720</td>\n    </tr>\n    <tr>\n      <th>Diameter</th>\n      <td>0.986812</td>\n      <td>1.000000</td>\n      <td>0.833684</td>\n      <td>0.925452</td>\n      <td>0.893162</td>\n      <td>0.905330</td>\n      <td>0.574660</td>\n      <td>0.318626</td>\n      <td>-0.564315</td>\n      <td>0.240376</td>\n      <td>0.574660</td>\n    </tr>\n    <tr>\n      <th>Height</th>\n      <td>0.827554</td>\n      <td>0.833684</td>\n      <td>1.000000</td>\n      <td>0.819221</td>\n      <td>0.774972</td>\n      <td>0.817338</td>\n      <td>0.557467</td>\n      <td>0.298421</td>\n      <td>-0.518552</td>\n      <td>0.215459</td>\n      <td>0.557467</td>\n    </tr>\n    <tr>\n      <th>Weight of whole</th>\n      <td>0.925261</td>\n      <td>0.925452</td>\n      <td>0.819221</td>\n      <td>1.000000</td>\n      <td>0.969405</td>\n      <td>0.955355</td>\n      <td>0.540390</td>\n      <td>0.299741</td>\n      <td>-0.557592</td>\n      <td>0.252038</td>\n      <td>0.540390</td>\n    </tr>\n    <tr>\n      <th>Weight of meat</th>\n      <td>0.897914</td>\n      <td>0.893162</td>\n      <td>0.774972</td>\n      <td>0.969405</td>\n      <td>1.000000</td>\n      <td>0.882617</td>\n      <td>0.420884</td>\n      <td>0.263991</td>\n      <td>-0.521842</td>\n      <td>0.251793</td>\n      <td>0.420884</td>\n    </tr>\n    <tr>\n      <th>Shell weight</th>\n      <td>0.897706</td>\n      <td>0.905330</td>\n      <td>0.817338</td>\n      <td>0.955355</td>\n      <td>0.882617</td>\n      <td>1.000000</td>\n      <td>0.627574</td>\n      <td>0.306319</td>\n      <td>-0.546953</td>\n      <td>0.235391</td>\n      <td>0.627574</td>\n    </tr>\n    <tr>\n      <th>Rings</th>\n      <td>0.556720</td>\n      <td>0.574660</td>\n      <td>0.557467</td>\n      <td>0.540390</td>\n      <td>0.420884</td>\n      <td>0.627574</td>\n      <td>1.000000</td>\n      <td>0.250279</td>\n      <td>-0.436063</td>\n      <td>0.181831</td>\n      <td>1.000000</td>\n    </tr>\n    <tr>\n      <th>Sex__F</th>\n      <td>0.309666</td>\n      <td>0.318626</td>\n      <td>0.298421</td>\n      <td>0.299741</td>\n      <td>0.263991</td>\n      <td>0.306319</td>\n      <td>0.250279</td>\n      <td>1.000000</td>\n      <td>-0.464298</td>\n      <td>-0.512528</td>\n      <td>0.250279</td>\n    </tr>\n    <tr>\n      <th>Sex__I</th>\n      <td>-0.551465</td>\n      <td>-0.564315</td>\n      <td>-0.518552</td>\n      <td>-0.557592</td>\n      <td>-0.521842</td>\n      <td>-0.546953</td>\n      <td>-0.436063</td>\n      <td>-0.464298</td>\n      <td>1.000000</td>\n      <td>-0.522541</td>\n      <td>-0.436063</td>\n    </tr>\n    <tr>\n      <th>Sex__M</th>\n      <td>0.236543</td>\n      <td>0.240376</td>\n      <td>0.215459</td>\n      <td>0.252038</td>\n      <td>0.251793</td>\n      <td>0.235391</td>\n      <td>0.181831</td>\n      <td>-0.512528</td>\n      <td>-0.522541</td>\n      <td>1.000000</td>\n      <td>0.181831</td>\n    </tr>\n    <tr>\n      <th>Age</th>\n      <td>0.556720</td>\n      <td>0.574660</td>\n      <td>0.557467</td>\n      <td>0.540390</td>\n      <td>0.420884</td>\n      <td>0.627574</td>\n      <td>1.000000</td>\n      <td>0.250279</td>\n      <td>-0.436063</td>\n      <td>0.181831</td>\n      <td>1.000000</td>\n    </tr>\n  </tbody>\n</table>\n</div>"
     },
     "execution_count": 16,
     "metadata": {},
     "output_type": "execute_result"
    }
   ],
   "source": [
    "corr = abalone.corr()\n",
    "\n",
    "corr"
   ],
   "metadata": {
    "collapsed": false,
    "pycharm": {
     "name": "#%%\n"
    }
   }
  },
  {
   "cell_type": "code",
   "execution_count": 17,
   "outputs": [
    {
     "data": {
      "text/plain": "<AxesSubplot:>"
     },
     "execution_count": 17,
     "metadata": {},
     "output_type": "execute_result"
    },
    {
     "data": {
      "text/plain": "<Figure size 432x288 with 2 Axes>",
      "image/png": "[encoded data removed]"
     },
     "metadata": {
      "needs_background": "light"
     },
     "output_type": "display_data"
    }
   ],
   "source": [
    "sns.heatmap(corr)"
   ],
   "metadata": {
    "collapsed": false,
    "pycharm": {
     "name": "#%%\n"
    }
   }
  },
  {
   "cell_type": "markdown",
   "metadata": {},
   "source": [
    "# Construction du modèle"
   ]
  },
  {
   "cell_type": "markdown",
   "source": [
    "On crée des formules qui nous serviront pour calculer le carré des y actuels et y prédits"
   ],
   "metadata": {
    "collapsed": false,
    "pycharm": {
     "name": "#%% md\n"
    }
   }
  },
  {
   "cell_type": "code",
   "execution_count": 18,
   "outputs": [],
   "source": [
    "def r_squared(y_actuals, y_predict):\n",
    "    sst = ((y_actuals - y_actuals.mean()) ** 2).sum()\n",
    "    sse = ((y_actuals - y_predict) ** 2).sum()\n",
    "    return 1 - (sse / sst)"
   ],
   "metadata": {
    "collapsed": false,
    "pycharm": {
     "name": "#%%\n"
    }
   }
  },
  {
   "cell_type": "code",
   "execution_count": 19,
   "outputs": [],
   "source": [
    "def r_squared_adjusted(y_actuals, y_predict, n_features):\n",
    "    r_s = r_squared(y_actuals, y_predict)\n",
    "    n = y_actuals.shape[0]\n",
    "    return 1 - (1 - r_s) * ((n - 1) / (n - n_features - 1))"
   ],
   "metadata": {
    "collapsed": false,
    "pycharm": {
     "name": "#%%\n"
    }
   }
  },
  {
   "cell_type": "markdown",
   "source": [
    "On initialise les algorithmes qui nous serviront pour faire nos prédictions, dans ce cas, on utilise le kfold pour\n",
    "calculer le mean squared error"
   ],
   "metadata": {
    "collapsed": false,
    "pycharm": {
     "name": "#%% md\n"
    }
   }
  },
  {
   "cell_type": "code",
   "execution_count": 20,
   "outputs": [],
   "source": [
    "kfold = KFold(n_splits=5, shuffle=True, random_state=1)\n",
    "rfecv = RFECV(LinearRegression(), step=1, cv=kfold, scoring='neg_mean_squared_error')"
   ],
   "metadata": {
    "collapsed": false,
    "pycharm": {
     "name": "#%%\n"
    }
   }
  },
  {
   "cell_type": "markdown",
   "source": [
    "On détermine que le X sera les features à partir duquel on va faire nos calculs, et le Y sera la variable à prédire"
   ],
   "metadata": {
    "collapsed": false,
    "pycharm": {
     "name": "#%% md\n"
    }
   }
  },
  {
   "cell_type": "code",
   "execution_count": 21,
   "outputs": [],
   "source": [
    "x = abalone[all_features]\n",
    "y = abalone[name_target]"
   ],
   "metadata": {
    "collapsed": false,
    "pycharm": {
     "name": "#%%\n"
    }
   }
  },
  {
   "cell_type": "markdown",
   "source": [
    "On impose les résultats obtenus par les valeurs des calculs de X vers le target Y."
   ],
   "metadata": {
    "collapsed": false,
    "pycharm": {
     "name": "#%% md\n"
    }
   }
  },
  {
   "cell_type": "code",
   "execution_count": 22,
   "outputs": [
    {
     "data": {
      "text/plain": "RFECV(cv=KFold(n_splits=5, random_state=1, shuffle=True),\n      estimator=LinearRegression(), scoring='neg_mean_squared_error')"
     },
     "execution_count": 22,
     "metadata": {},
     "output_type": "execute_result"
    }
   ],
   "source": [
    "rfecv.fit(x, y)"
   ],
   "metadata": {
    "collapsed": false,
    "pycharm": {
     "name": "#%%\n"
    }
   }
  },
  {
   "cell_type": "markdown",
   "metadata": {},
   "source": [
    "# Explication du modèle obtenu"
   ]
  },
  {
   "cell_type": "markdown",
   "source": [
    "À partir des calculés menés dans rfcev.fit, on peut voir quels parties de nos données pourraient être considérees comme\n",
    "important lors de nos prédictions. Ici on démarre de toutes les features qu'on lui a imposée avec celles déterminées\n",
    "par rfcev. Puis dans important features on supprimes celles inutiles"
   ],
   "metadata": {
    "collapsed": false
   }
  },
  {
   "cell_type": "code",
   "execution_count": 23,
   "outputs": [
    {
     "data": {
      "text/plain": "                            0      1\n0   Longest Shell measurement   True\n1                    Diameter   True\n2                      Height   True\n3             Weight of whole   True\n4              Weight of meat   True\n5                Shell weight   True\n6                      Sex__F  False\n7                      Sex__I   True\n8                      Sex__M   True",
      "text/html": "<div>\n<style scoped>\n    .dataframe tbody tr th:only-of-type {\n        vertical-align: middle;\n    }\n\n    .dataframe tbody tr th {\n        vertical-align: top;\n    }\n\n    .dataframe thead th {\n        text-align: right;\n    }\n</style>\n<table border=\"1\" class=\"dataframe\">\n  <thead>\n    <tr style=\"text-align: right;\">\n      <th></th>\n      <th>0</th>\n      <th>1</th>\n    </tr>\n  </thead>\n  <tbody>\n    <tr>\n      <th>0</th>\n      <td>Longest Shell measurement</td>\n      <td>True</td>\n    </tr>\n    <tr>\n      <th>1</th>\n      <td>Diameter</td>\n      <td>True</td>\n    </tr>\n    <tr>\n      <th>2</th>\n      <td>Height</td>\n      <td>True</td>\n    </tr>\n    <tr>\n      <th>3</th>\n      <td>Weight of whole</td>\n      <td>True</td>\n    </tr>\n    <tr>\n      <th>4</th>\n      <td>Weight of meat</td>\n      <td>True</td>\n    </tr>\n    <tr>\n      <th>5</th>\n      <td>Shell weight</td>\n      <td>True</td>\n    </tr>\n    <tr>\n      <th>6</th>\n      <td>Sex__F</td>\n      <td>False</td>\n    </tr>\n    <tr>\n      <th>7</th>\n      <td>Sex__I</td>\n      <td>True</td>\n    </tr>\n    <tr>\n      <th>8</th>\n      <td>Sex__M</td>\n      <td>True</td>\n    </tr>\n  </tbody>\n</table>\n</div>"
     },
     "execution_count": 23,
     "metadata": {},
     "output_type": "execute_result"
    }
   ],
   "source": [
    "features_and_support = pd.concat([pd.Series(all_features), pd.Series(rfecv.support_)], axis=1)\n",
    "features_and_support"
   ],
   "metadata": {
    "collapsed": false,
    "pycharm": {
     "name": "#%%\n"
    }
   }
  },
  {
   "cell_type": "code",
   "execution_count": 24,
   "outputs": [
    {
     "data": {
      "text/plain": "0     Longest Shell measurement\n1                      Diameter\n2                        Height\n3               Weight of whole\n4                Weight of meat\n5                  Shell weight\n7                        Sex__I\n8                        Sex__M\nName: 0, dtype: object"
     },
     "execution_count": 24,
     "metadata": {},
     "output_type": "execute_result"
    }
   ],
   "source": [
    "important_features = features_and_support[features_and_support.iloc[:, 1]].iloc[:, 0]\n",
    "important_features"
   ],
   "metadata": {
    "collapsed": false,
    "pycharm": {
     "name": "#%%\n"
    }
   }
  },
  {
   "cell_type": "markdown",
   "metadata": {},
   "source": [
    "# Prédiction de résultats"
   ]
  },
  {
   "cell_type": "markdown",
   "source": [
    "On fait nos prédictions sur les valeurs que l'ordinateur a considérées comme utiles"
   ],
   "metadata": {
    "collapsed": false,
    "pycharm": {
     "name": "#%% md\n"
    }
   }
  },
  {
   "cell_type": "code",
   "execution_count": 25,
   "outputs": [
    {
     "name": "stdout",
     "output_type": "stream",
     "text": [
      "R squared (sklearn): 0.4414835319250081\n",
      "R squared (manual): 0.4414835319250081\n",
      "Adjusted R squared: 0.43608071240312185\n"
     ]
    }
   ],
   "source": [
    "pred_1 = test[important_features]\n",
    "\n",
    "lr_1 = LinearRegression()\n",
    "lr_1.fit(train[important_features], train[name_target])\n",
    "\n",
    "prediction_1 = lr_1.predict(pred_1)\n",
    "\n",
    "print(\"R squared (sklearn):\", r2_score(test[name_target], prediction_1))\n",
    "print(\"R squared (manual):\", r_squared(test[name_target], prediction_1))\n",
    "print(\"Adjusted R squared:\", r_squared_adjusted(test[name_target], prediction_1, important_features.shape[0]))"
   ],
   "metadata": {
    "collapsed": false,
    "pycharm": {
     "name": "#%%\n"
    }
   }
  },
  {
   "cell_type": "code",
   "execution_count": 26,
   "outputs": [
    {
     "name": "stdout",
     "output_type": "stream",
     "text": [
      "2.234665137172385\n"
     ]
    }
   ],
   "source": [
    "mses = cross_val_score(LinearRegression(), abalone[important_features], abalone[name_target],\n",
    "                       cv=kfold, scoring='neg_mean_squared_error')\n",
    "mean_mse = -np.mean(mses)\n",
    "rmse = mean_mse ** 0.5\n",
    "print(rmse)\n"
   ],
   "metadata": {
    "collapsed": false,
    "pycharm": {
     "name": "#%%\n"
    }
   }
  }
 ],
 "metadata": {
  "kernelspec": {
   "name": "pycharm-1b52d5e2",
   "language": "python",
   "display_name": "PyCharm (Mathematique)"
  },
  "language_info": {
   "codemirror_mode": {
    "name": "ipython",
    "version": 3
   },
   "file_extension": ".py",
   "mimetype": "text/x-python",
   "name": "python",
   "nbconvert_exporter": "python",
   "pygments_lexer": "ipython3",
   "version": "3.8.5"
  }
 },
 "nbformat": 4,
 "nbformat_minor": 4
}