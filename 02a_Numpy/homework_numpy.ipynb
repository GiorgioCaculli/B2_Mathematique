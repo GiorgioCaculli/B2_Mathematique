{
 "cells": [
  {
   "cell_type": "code",
   "execution_count": 1,
   "metadata": {},
   "outputs": [],
   "source": [
    "import numpy as np"
   ]
  },
  {
   "cell_type": "code",
   "execution_count": 2,
   "metadata": {},
   "outputs": [],
   "source": [
    "PATH_FILE = '../../../Assets/playstore/3 - Data Used/googleplaystore_used_numpy.csv'"
   ]
  },
  {
   "cell_type": "code",
   "execution_count": 3,
   "metadata": {},
   "outputs": [],
   "source": [
    "init_data = {\n",
    "    'delimiter': ',',\n",
    "    'skip_header': 1\n",
    "}"
   ]
  },
  {
   "cell_type": "markdown",
   "metadata": {},
   "source": [
    "# 1 - Charger le fichier de données"
   ]
  },
  {
   "cell_type": "code",
   "execution_count": 4,
   "metadata": {},
   "outputs": [],
   "source": [
    "google = np.genfromtxt(PATH_FILE, **init_data)"
   ]
  },
  {
   "cell_type": "markdown",
   "metadata": {},
   "source": [
    "# 2 - Enquêter sur son contenu"
   ]
  },
  {
   "cell_type": "code",
   "execution_count": 5,
   "metadata": {},
   "outputs": [
    {
     "name": "stdout",
     "output_type": "stream",
     "text": [
      "Sa taille : (7729, 5)\n",
      "Son nombre de dimension : 2\n",
      "Le nombre total d'informations : 38645\n"
     ]
    }
   ],
   "source": [
    "print('Sa taille : {}\\nSon nombre de dimension : {}\\nLe nombre total d\\'informations : {}'.format(google.shape, google.ndim, google.size))"
   ]
  },
  {
   "cell_type": "markdown",
   "metadata": {},
   "source": [
    "Nous avons affaire à une matrice de données. Elle contient exactement 38645 informations. Ces dernières sont réparties en 5 colonnes. Chaque colonne contient 7729 informations. Soit :"
   ]
  },
  {
   "cell_type": "code",
   "execution_count": 6,
   "metadata": {},
   "outputs": [
    {
     "data": {
      "text/plain": [
       "38645"
      ]
     },
     "execution_count": 6,
     "metadata": {},
     "output_type": "execute_result"
    }
   ],
   "source": [
    "7729 * 5"
   ]
  },
  {
   "cell_type": "markdown",
   "metadata": {},
   "source": [
    "# 3 - Sélectionner les 10 premières lignes"
   ]
  },
  {
   "cell_type": "code",
   "execution_count": 7,
   "metadata": {},
   "outputs": [
    {
     "data": {
      "text/plain": [
       "array([[4.10000e+00, 1.59000e+02, 1.90000e+01, 1.00000e+04, 0.00000e+00],\n",
       "       [3.90000e+00, 9.67000e+02, 1.40000e+01, 5.00000e+05, 0.00000e+00],\n",
       "       [4.70000e+00, 8.75100e+04, 8.70000e+00, 5.00000e+06, 0.00000e+00],\n",
       "       [4.50000e+00, 2.15644e+05, 2.50000e+01, 5.00000e+07, 0.00000e+00],\n",
       "       [4.30000e+00, 9.67000e+02, 2.80000e+00, 1.00000e+05, 0.00000e+00],\n",
       "       [4.40000e+00, 1.67000e+02, 5.60000e+00, 5.00000e+04, 0.00000e+00],\n",
       "       [3.80000e+00, 1.78000e+02, 1.90000e+01, 5.00000e+04, 0.00000e+00],\n",
       "       [4.10000e+00, 3.68150e+04, 2.90000e+01, 1.00000e+06, 0.00000e+00],\n",
       "       [4.40000e+00, 1.37910e+04, 3.30000e+01, 1.00000e+06, 0.00000e+00],\n",
       "       [4.70000e+00, 1.21000e+02, 3.10000e+00, 1.00000e+04, 0.00000e+00]])"
      ]
     },
     "execution_count": 7,
     "metadata": {},
     "output_type": "execute_result"
    }
   ],
   "source": [
    "google[:10,:]"
   ]
  },
  {
   "cell_type": "markdown",
   "metadata": {},
   "source": [
    "# 4 - Sélectionner les 10 dernière lignes"
   ]
  },
  {
   "cell_type": "code",
   "execution_count": 8,
   "metadata": {},
   "outputs": [
    {
     "data": {
      "text/plain": [
       "array([[4.20000e+00, 1.17000e+02, 1.30000e+01, 5.00000e+03, 0.00000e+00],\n",
       "       [3.40000e+00, 2.91000e+02, 1.30000e+01, 1.00000e+04, 0.00000e+00],\n",
       "       [4.60000e+00, 6.03000e+02, 7.40000e+00, 1.00000e+04, 0.00000e+00],\n",
       "       [3.80000e+00, 8.81000e+02, 2.30000e+00, 1.00000e+05, 0.00000e+00],\n",
       "       [3.80000e+00, 1.19500e+03, 5.82000e-01, 1.00000e+05, 0.00000e+00],\n",
       "       [4.80000e+00, 4.40000e+01, 6.19000e-01, 1.00000e+03, 0.00000e+00],\n",
       "       [4.00000e+00, 7.00000e+00, 2.60000e+00, 5.00000e+02, 0.00000e+00],\n",
       "       [4.50000e+00, 3.80000e+01, 5.30000e+01, 5.00000e+03, 0.00000e+00],\n",
       "       [5.00000e+00, 4.00000e+00, 3.60000e+00, 1.00000e+02, 0.00000e+00],\n",
       "       [4.50000e+00, 3.98307e+05, 1.90000e+01, 1.00000e+07, 0.00000e+00]])"
      ]
     },
     "execution_count": 8,
     "metadata": {},
     "output_type": "execute_result"
    }
   ],
   "source": [
    "google[-10:,:]"
   ]
  },
  {
   "cell_type": "markdown",
   "metadata": {},
   "source": [
    "# 5 - Sélectionner la première et la dernière colonne de deux manières différentes"
   ]
  },
  {
   "cell_type": "code",
   "execution_count": 9,
   "metadata": {},
   "outputs": [],
   "source": [
    "# nous sélectionnons via les indices\n",
    "first_last_column_one = [0, 4]\n",
    "# on emploie cette fois-ci un indice négatif\n",
    "first_last_column_two = [0, -1]"
   ]
  },
  {
   "cell_type": "code",
   "execution_count": 10,
   "metadata": {},
   "outputs": [
    {
     "data": {
      "text/plain": [
       "array([[4.1, 0. ],\n",
       "       [3.9, 0. ],\n",
       "       [4.7, 0. ],\n",
       "       ...,\n",
       "       [4.5, 0. ],\n",
       "       [5. , 0. ],\n",
       "       [4.5, 0. ]])"
      ]
     },
     "execution_count": 10,
     "metadata": {},
     "output_type": "execute_result"
    }
   ],
   "source": [
    "google[:,first_last_column_one]"
   ]
  },
  {
   "cell_type": "code",
   "execution_count": 11,
   "metadata": {},
   "outputs": [
    {
     "data": {
      "text/plain": [
       "array([[4.1, 0. ],\n",
       "       [3.9, 0. ],\n",
       "       [4.7, 0. ],\n",
       "       ...,\n",
       "       [4.5, 0. ],\n",
       "       [5. , 0. ],\n",
       "       [4.5, 0. ]])"
      ]
     },
     "execution_count": 11,
     "metadata": {},
     "output_type": "execute_result"
    }
   ],
   "source": [
    "google[:,first_last_column_two]"
   ]
  },
  {
   "cell_type": "markdown",
   "metadata": {},
   "source": [
    "# 6 - Trouver le maximum de chaque colonne."
   ]
  },
  {
   "cell_type": "code",
   "execution_count": 12,
   "metadata": {},
   "outputs": [
    {
     "name": "stdout",
     "output_type": "stream",
     "text": [
      "Max rating : 5.0\n",
      "Max review : 44893888.0\n",
      "Max size : 100.0\n",
      "Max install : 1000000000.0\n",
      "Max price : 400.0\n"
     ]
    }
   ],
   "source": [
    "max_each_col = google.max(axis = 0)\n",
    "print('Max rating :', max_each_col[0])\n",
    "print('Max review :', max_each_col[1])\n",
    "print('Max size :', max_each_col[2])\n",
    "print('Max install :', max_each_col[3])\n",
    "print('Max price :', max_each_col[4])"
   ]
  },
  {
   "cell_type": "markdown",
   "metadata": {},
   "source": [
    "# 7 - Trier le tableau par le nombre de « reviews » (par ordre décroissant) et sauvegarder le résultat dans « google_sorted_reviews »."
   ]
  },
  {
   "cell_type": "code",
   "execution_count": 13,
   "metadata": {},
   "outputs": [],
   "source": [
    "# Par défaut, argsort exécute le tri par ordre croissant. \n",
    "# Ici, on inverse les résultats et on transforme le tout en liste\n",
    "index_sort_reviews = list(reversed(np.argsort(google[:, 1])))"
   ]
  },
  {
   "cell_type": "code",
   "execution_count": 14,
   "metadata": {},
   "outputs": [],
   "source": [
    "google_sorted_reviews = google[index_sort_reviews].copy()"
   ]
  },
  {
   "cell_type": "code",
   "execution_count": 15,
   "metadata": {},
   "outputs": [
    {
     "data": {
      "text/plain": [
       "array([44893888., 44891723., 44891723., 44881447., 27725352., 27725352.,\n",
       "       27724094., 27723193., 27722264., 27711703., 23136735., 23134775.,\n",
       "       23133508., 23125280., 22430188., 22430188., 22429716., 22428456.,\n",
       "       22428456., 22426677., 22419455., 17714850., 17712922., 17712922.,\n",
       "       14201891., 14201604., 14200550., 14200344., 14198602., 14198297.,\n",
       "       14184910., 13479633., 12759815., 12759663., 10981850., 10979062.,\n",
       "       10486018., 10485334., 10485308., 10483141., 10424925., 10421284.,\n",
       "       10055521., 10053186.,  9883806.,  9883367.,  9882639.,  9881908.,\n",
       "        9881829.,  9879473.,  9876369.,  9873470.,  8923847.,  8923818.,\n",
       "        8923587.,  8921451.,  8389714.,  8219586.,  8190074.,  8119154.,\n",
       "        8119151.,  8118937.,  8118937.,  8118609.,  8116142.,  7790693.,\n",
       "        7775146.,  7615646.,  7614415.,  7614407.,  7614271.,  7614130.,\n",
       "        7594559.,  7590099.,  6702776.,  6700847.,  6427773.,  6212081.,\n",
       "        6211039.,  6211039.,  6210998.,  6200739.,  6199095.,  6198880.,\n",
       "        6198563.,  6181640.,  6074627.,  6074334.,  6071542.,  5783441.,\n",
       "        5637451.,  5591653.,  5566908.,  5566889.,  5566805.,  5566669.,\n",
       "        5565856.,  5534114.,  5476569.,  5476569.])"
      ]
     },
     "execution_count": 15,
     "metadata": {},
     "output_type": "execute_result"
    }
   ],
   "source": [
    "google_sorted_reviews[:100,1]"
   ]
  },
  {
   "cell_type": "markdown",
   "metadata": {},
   "source": [
    "# 8 - Réaliser une moyenne sur les 100 premières lignes de vos données précédemment triées. Interpréter les résultats."
   ]
  },
  {
   "cell_type": "code",
   "execution_count": 16,
   "metadata": {},
   "outputs": [],
   "source": [
    "# Nous spécifions l'axe 0 (soit vertical).\n",
    "# En résumé, il fait la moyenne de toutes les lignes de chaque colonne.\n",
    "# Pour plus d'informations à ce sujet, consultez ce lien : https://docs.scipy.org/doc/numpy-1.10.0/glossary.html\n",
    "mean_top_100_app = google_sorted_reviews[:100].mean(axis=0)"
   ]
  },
  {
   "cell_type": "code",
   "execution_count": 17,
   "metadata": {
    "scrolled": false
   },
   "outputs": [
    {
     "name": "stdout",
     "output_type": "stream",
     "text": [
      "Mean rating by top 100 most reviews : 4.463999999999999\n",
      "Mean review by top 100 most reviews : 13040739.36\n",
      "Mean size by top 100 most reviews : 64.3\n",
      "Mean install by top 100 most reviews : 241500000.0\n",
      "Mean price by top 100 most reviews : 0.0\n"
     ]
    }
   ],
   "source": [
    "print('Mean rating by top 100 most reviews :', mean_top_100_app[0])\n",
    "print('Mean review by top 100 most reviews :', mean_top_100_app[1])\n",
    "print('Mean size by top 100 most reviews :', mean_top_100_app[2])\n",
    "print('Mean install by top 100 most reviews :', mean_top_100_app[3])\n",
    "print('Mean price by top 100 most reviews :', mean_top_100_app[4])"
   ]
  },
  {
   "cell_type": "markdown",
   "metadata": {},
   "source": [
    "# 9 - Obtenir le nombre d’applications qui ont un rating plus grand que la moyenne (provenant de votre variable google). Calculer le pourcentage qui se trouvent au-dessus et en dessous de la moyenne."
   ]
  },
  {
   "cell_type": "code",
   "execution_count": 18,
   "metadata": {},
   "outputs": [
    {
     "name": "stdout",
     "output_type": "stream",
     "text": [
      "Mean : 4.173851727260965\n",
      "Weighted mean : 4.448669318080345\n"
     ]
    }
   ],
   "source": [
    "mean_rating = google[:,0].mean()\n",
    "weighted_mean_rating = (google[:,0] * google[:,1]).sum() / google[:,1].sum()\n",
    "print('Mean : {}\\nWeighted mean : {}'.format(mean_rating, weighted_mean_rating))"
   ]
  },
  {
   "cell_type": "code",
   "execution_count": 19,
   "metadata": {},
   "outputs": [],
   "source": [
    "condition_above_mean_rating = google[:,0] >= mean_rating\n",
    "condition_above_w_mean_rating = google[:,0] >= weighted_mean_rating"
   ]
  },
  {
   "cell_type": "code",
   "execution_count": 20,
   "metadata": {},
   "outputs": [
    {
     "name": "stdout",
     "output_type": "stream",
     "text": [
      "There are 4853 applications above the mean rating\n",
      "There are 2460 applications above the w mean rating\n"
     ]
    }
   ],
   "source": [
    "nb_app_above_mean_rating = google[condition_above_mean_rating].shape[0]\n",
    "nb_app_above_w_mean_rating = google[condition_above_w_mean_rating].shape[0]\n",
    "print('There are {} applications above the mean rating'.format(nb_app_above_mean_rating))\n",
    "print('There are {} applications above the w mean rating'.format(nb_app_above_w_mean_rating))"
   ]
  },
  {
   "cell_type": "code",
   "execution_count": 21,
   "metadata": {},
   "outputs": [
    {
     "name": "stdout",
     "output_type": "stream",
     "text": [
      "62.7894941130806 %\n",
      "31.828179583387247 %\n"
     ]
    }
   ],
   "source": [
    "print((nb_app_above_mean_rating / google.shape[0]) * 100, '%')\n",
    "print((nb_app_above_w_mean_rating / google.shape[0]) * 100, '%')"
   ]
  },
  {
   "cell_type": "markdown",
   "metadata": {},
   "source": [
    "# 10 - « Il y a plus d’applications gratuites que d’applications payantes ». Est-ce vrai ?"
   ]
  },
  {
   "cell_type": "code",
   "execution_count": 22,
   "metadata": {},
   "outputs": [],
   "source": [
    "value_count_prices = {}"
   ]
  },
  {
   "cell_type": "code",
   "execution_count": 23,
   "metadata": {},
   "outputs": [],
   "source": [
    "for p in google[:,-1]:\n",
    "    value = value_count_prices.get(p, 0)\n",
    "    value_count_prices[p] = value + 1"
   ]
  },
  {
   "cell_type": "code",
   "execution_count": 24,
   "metadata": {
    "scrolled": true
   },
   "outputs": [
    {
     "data": {
      "text/plain": [
       "{0.0: 7150,\n",
       " 4.99: 63,\n",
       " 6.99: 9,\n",
       " 7.99: 7,\n",
       " 3.99: 45,\n",
       " 5.99: 15,\n",
       " 2.99: 101,\n",
       " 1.99: 53,\n",
       " 9.99: 16,\n",
       " 0.99: 106,\n",
       " 9.0: 2,\n",
       " 5.49: 2,\n",
       " 10.0: 3,\n",
       " 24.99: 5,\n",
       " 11.99: 4,\n",
       " 79.99: 2,\n",
       " 16.99: 3,\n",
       " 14.99: 10,\n",
       " 29.99: 6,\n",
       " 12.99: 4,\n",
       " 3.49: 6,\n",
       " 10.99: 2,\n",
       " 7.49: 1,\n",
       " 1.5: 1,\n",
       " 19.99: 5,\n",
       " 15.99: 1,\n",
       " 33.99: 2,\n",
       " 39.99: 1,\n",
       " 2.49: 17,\n",
       " 4.49: 8,\n",
       " 1.7: 2,\n",
       " 1.49: 28,\n",
       " 3.88: 1,\n",
       " 399.99: 11,\n",
       " 17.99: 2,\n",
       " 400.0: 1,\n",
       " 3.02: 1,\n",
       " 1.76: 1,\n",
       " 4.84: 1,\n",
       " 4.77: 1,\n",
       " 1.61: 1,\n",
       " 1.59: 1,\n",
       " 6.49: 1,\n",
       " 1.29: 1,\n",
       " 299.99: 1,\n",
       " 379.99: 1,\n",
       " 37.99: 1,\n",
       " 18.99: 1,\n",
       " 389.99: 1,\n",
       " 8.49: 1,\n",
       " 1.75: 1,\n",
       " 14.0: 1,\n",
       " 2.0: 1,\n",
       " 3.08: 1,\n",
       " 2.59: 1,\n",
       " 19.4: 1,\n",
       " 15.46: 1,\n",
       " 8.99: 2,\n",
       " 3.04: 1,\n",
       " 13.99: 1,\n",
       " 4.29: 1,\n",
       " 3.28: 1,\n",
       " 4.6: 1,\n",
       " 1.0: 2,\n",
       " 2.9: 1,\n",
       " 1.97: 1,\n",
       " 2.56: 1,\n",
       " 1.2: 1}"
      ]
     },
     "execution_count": 24,
     "metadata": {},
     "output_type": "execute_result"
    }
   ],
   "source": [
    "value_count_prices"
   ]
  },
  {
   "cell_type": "code",
   "execution_count": 25,
   "metadata": {},
   "outputs": [],
   "source": [
    "count_app_free = value_count_prices[.0]"
   ]
  },
  {
   "cell_type": "code",
   "execution_count": 26,
   "metadata": {},
   "outputs": [],
   "source": [
    "nb_total_app = sum(list(value_count_prices.values()))"
   ]
  },
  {
   "cell_type": "code",
   "execution_count": 27,
   "metadata": {},
   "outputs": [
    {
     "data": {
      "text/plain": [
       "7729"
      ]
     },
     "execution_count": 27,
     "metadata": {},
     "output_type": "execute_result"
    }
   ],
   "source": [
    "nb_total_app"
   ]
  },
  {
   "cell_type": "code",
   "execution_count": 28,
   "metadata": {},
   "outputs": [
    {
     "data": {
      "text/plain": [
       "True"
      ]
     },
     "execution_count": 28,
     "metadata": {},
     "output_type": "execute_result"
    }
   ],
   "source": [
    "# On check si on a bien toutes nos données\n",
    "nb_total_app == google.shape[0]"
   ]
  },
  {
   "cell_type": "code",
   "execution_count": 29,
   "metadata": {},
   "outputs": [
    {
     "data": {
      "text/plain": [
       "92.50873334195886"
      ]
     },
     "execution_count": 29,
     "metadata": {},
     "output_type": "execute_result"
    }
   ],
   "source": [
    "# On calcule ensuite le pourcentage\n",
    "percent_free_app = (count_app_free / nb_total_app) * 100\n",
    "percent_free_app"
   ]
  },
  {
   "cell_type": "code",
   "execution_count": 30,
   "metadata": {},
   "outputs": [
    {
     "name": "stdout",
     "output_type": "stream",
     "text": [
      "There are 92.50873334195886 % of free applications in this dataset\n",
      "Yes, there are more free app than paid app\n"
     ]
    }
   ],
   "source": [
    "print('There are {} % of free applications in this dataset'.format(percent_free_app))\n",
    "print('Yes, there are more free app than paid app')"
   ]
  },
  {
   "cell_type": "markdown",
   "metadata": {},
   "source": [
    "# 11 - « Les applications gratuites reçoivent plus d’avis que les applications payantes ». Est-ce vrai ?"
   ]
  },
  {
   "cell_type": "code",
   "execution_count": 31,
   "metadata": {},
   "outputs": [],
   "source": [
    "condition_app_free = google[:, -1] == .0"
   ]
  },
  {
   "cell_type": "code",
   "execution_count": 32,
   "metadata": {},
   "outputs": [],
   "source": [
    "google_app_free = google[condition_app_free].copy()\n",
    "google_app_paid = google[~condition_app_free].copy()"
   ]
  },
  {
   "cell_type": "code",
   "execution_count": 33,
   "metadata": {},
   "outputs": [],
   "source": [
    "total_reviews_app_free = google_app_free[:, 1].sum()\n",
    "total_reviews_app_paid = google_app_paid[:, 1].sum()"
   ]
  },
  {
   "cell_type": "code",
   "execution_count": 34,
   "metadata": {},
   "outputs": [
    {
     "name": "stdout",
     "output_type": "stream",
     "text": [
      "2273461569.0\n",
      "4062575.0\n"
     ]
    }
   ],
   "source": [
    "print(total_reviews_app_free)\n",
    "print(total_reviews_app_paid)"
   ]
  },
  {
   "cell_type": "code",
   "execution_count": 35,
   "metadata": {},
   "outputs": [
    {
     "name": "stdout",
     "output_type": "stream",
     "text": [
      "Is free app receive more reviews than paid app ? : True\n"
     ]
    }
   ],
   "source": [
    "print('Is free app receive more reviews than paid app ? :', total_reviews_app_free > total_reviews_app_paid)"
   ]
  }
 ],
 "metadata": {
  "kernelspec": {
   "display_name": "Python 3",
   "language": "python",
   "name": "python3"
  },
  "language_info": {
   "codemirror_mode": {
    "name": "ipython",
    "version": 3
   },
   "file_extension": ".py",
   "mimetype": "text/x-python",
   "name": "python",
   "nbconvert_exporter": "python",
   "pygments_lexer": "ipython3",
   "version": "3.6.4"
  }
 },
 "nbformat": 4,
 "nbformat_minor": 2
}