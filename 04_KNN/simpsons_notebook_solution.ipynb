{
 "cells": [
  {
   "cell_type": "code",
   "execution_count": 1,
   "metadata": {},
   "outputs": [],
   "source": [
    "import numpy as np\n",
    "import pandas as pd\n",
    "import matplotlib.pyplot as plt\n",
    "from sklearn.model_selection import KFold, cross_val_score\n",
    "from sklearn.neighbors import KNeighborsRegressor"
   ]
  },
  {
   "cell_type": "code",
   "execution_count": 2,
   "metadata": {},
   "outputs": [],
   "source": [
    "PATH_S = '../../../Assets/the-simpsons-by-the-data/simpsons_episodes.csv'"
   ]
  },
  {
   "cell_type": "code",
   "execution_count": 3,
   "metadata": {},
   "outputs": [],
   "source": [
    "sim = pd.read_csv(PATH_S)"
   ]
  },
  {
   "cell_type": "code",
   "execution_count": 4,
   "metadata": {},
   "outputs": [],
   "source": [
    "# il y a quelques lignes où se trouvent des informations nulles => nous les supprimons\n",
    "sim.dropna(inplace=True)"
   ]
  },
  {
   "cell_type": "code",
   "execution_count": 5,
   "metadata": {},
   "outputs": [],
   "source": [
    "# sce signifie scenario\n",
    "features_sce_1 = ['us_viewers_in_millions', 'views', 'imdb_votes']\n",
    "features_sce_2 = ['us_viewers_in_millions', 'imdb_votes']\n",
    "\n",
    "target = 'imdb_rating'\n",
    "\n",
    "n_neighbors_sce_1 = 10\n",
    "n_neighbors_sce_2 = 15"
   ]
  },
  {
   "cell_type": "code",
   "execution_count": 6,
   "metadata": {},
   "outputs": [],
   "source": [
    "blank_model_1 = KNeighborsRegressor(algorithm='brute', n_neighbors=n_neighbors_sce_1)\n",
    "blank_model_2 = KNeighborsRegressor(algorithm='brute', n_neighbors=n_neighbors_sce_2)\n",
    "\n",
    "kfold = KFold(n_splits=5, shuffle=True, random_state=777)"
   ]
  },
  {
   "cell_type": "code",
   "execution_count": 7,
   "metadata": {},
   "outputs": [],
   "source": [
    "mse_1 = -cross_val_score(blank_model_1, \n",
    "                sim[features_sce_1], \n",
    "                sim[target], cv=kfold, \n",
    "                scoring='neg_mean_squared_error')"
   ]
  },
  {
   "cell_type": "code",
   "execution_count": 8,
   "metadata": {},
   "outputs": [],
   "source": [
    "mse_2 = -cross_val_score(blank_model_2, \n",
    "                sim[features_sce_2], \n",
    "                sim[target], cv=kfold, \n",
    "                scoring='neg_mean_squared_error')"
   ]
  },
  {
   "cell_type": "code",
   "execution_count": 9,
   "metadata": {},
   "outputs": [
    {
     "name": "stdout",
     "output_type": "stream",
     "text": [
      "MSE 1: 0.226244901011252\n",
      "MSE 2: 0.18943367611451362\n"
     ]
    }
   ],
   "source": [
    "print('MSE 1:', np.mean(mse_1))\n",
    "print('MSE 2:', np.mean(mse_2))"
   ]
  },
  {
   "cell_type": "markdown",
   "metadata": {},
   "source": [
    "=> en utilisant seulement le MSE, nous pouvons tirer comme conclusion que le deuxième modèle est le meilleur."
   ]
  }
 ],
 "metadata": {
  "kernelspec": {
   "display_name": "Python 3",
   "language": "python",
   "name": "python3"
  },
  "language_info": {
   "codemirror_mode": {
    "name": "ipython",
    "version": 3
   },
   "file_extension": ".py",
   "mimetype": "text/x-python",
   "name": "python",
   "nbconvert_exporter": "python",
   "pygments_lexer": "ipython3",
   "version": "3.6.5"
  }
 },
 "nbformat": 4,
 "nbformat_minor": 2
}
