{
 "cells": [
  {
   "cell_type": "code",
   "execution_count": 1,
   "metadata": {},
   "outputs": [],
   "source": [
    "import numpy as np\n",
    "import pandas as pd\n",
    "import matplotlib.pyplot as plt\n",
    "from sklearn.linear_model import LinearRegression\n",
    "from sklearn.model_selection import cross_val_score, KFold\n",
    "%matplotlib inlin"
   ]
  },
  {
   "cell_type": "markdown",
   "metadata": {},
   "source": [
    "# Phase initiale"
   ]
  },
  {
   "cell_type": "code",
   "execution_count": 2,
   "metadata": {},
   "outputs": [],
   "source": [
    "PATH_DATA = 'brains.txt'"
   ]
  },
  {
   "cell_type": "code",
   "execution_count": 3,
   "metadata": {},
   "outputs": [],
   "source": [
    "brains = pd.read_csv(PATH_DATA, sep = '\\t')"
   ]
  },
  {
   "cell_type": "code",
   "execution_count": 4,
   "metadata": {},
   "outputs": [],
   "source": [
    "brains.drop('Index', axis=1, inplace=True)"
   ]
  },
  {
   "cell_type": "markdown",
   "metadata": {},
   "source": [
    "# Phase de compréhension"
   ]
  },
  {
   "cell_type": "code",
   "execution_count": 5,
   "metadata": {},
   "outputs": [
    {
     "data": {
      "text/plain": "   Brain Weight  Body Weight\n0         3.385         44.5\n1         0.480         15.5\n2         1.350          8.1\n3       465.000        423.0\n4        36.330        119.5",
      "text/html": "<div>\n<style scoped>\n    .dataframe tbody tr th:only-of-type {\n        vertical-align: middle;\n    }\n\n    .dataframe tbody tr th {\n        vertical-align: top;\n    }\n\n    .dataframe thead th {\n        text-align: right;\n    }\n</style>\n<table border=\"1\" class=\"dataframe\">\n  <thead>\n    <tr style=\"text-align: right;\">\n      <th></th>\n      <th>Brain Weight</th>\n      <th>Body Weight</th>\n    </tr>\n  </thead>\n  <tbody>\n    <tr>\n      <th>0</th>\n      <td>3.385</td>\n      <td>44.5</td>\n    </tr>\n    <tr>\n      <th>1</th>\n      <td>0.480</td>\n      <td>15.5</td>\n    </tr>\n    <tr>\n      <th>2</th>\n      <td>1.350</td>\n      <td>8.1</td>\n    </tr>\n    <tr>\n      <th>3</th>\n      <td>465.000</td>\n      <td>423.0</td>\n    </tr>\n    <tr>\n      <th>4</th>\n      <td>36.330</td>\n      <td>119.5</td>\n    </tr>\n  </tbody>\n</table>\n</div>"
     },
     "execution_count": 5,
     "metadata": {},
     "output_type": "execute_result"
    }
   ],
   "source": [
    "brains.head()"
   ]
  },
  {
   "cell_type": "code",
   "execution_count": 6,
   "metadata": {},
   "outputs": [
    {
     "data": {
      "text/plain": "       Brain Weight  Body Weight\ncount     62.000000    62.000000\nmean     198.789984   283.134194\nstd      899.158011   930.278942\nmin        0.005000     0.140000\n25%        0.600000     4.250000\n50%        3.342500    17.250000\n75%       48.202500   166.000000\nmax     6654.000000  5712.000000",
      "text/html": "<div>\n<style scoped>\n    .dataframe tbody tr th:only-of-type {\n        vertical-align: middle;\n    }\n\n    .dataframe tbody tr th {\n        vertical-align: top;\n    }\n\n    .dataframe thead th {\n        text-align: right;\n    }\n</style>\n<table border=\"1\" class=\"dataframe\">\n  <thead>\n    <tr style=\"text-align: right;\">\n      <th></th>\n      <th>Brain Weight</th>\n      <th>Body Weight</th>\n    </tr>\n  </thead>\n  <tbody>\n    <tr>\n      <th>count</th>\n      <td>62.000000</td>\n      <td>62.000000</td>\n    </tr>\n    <tr>\n      <th>mean</th>\n      <td>198.789984</td>\n      <td>283.134194</td>\n    </tr>\n    <tr>\n      <th>std</th>\n      <td>899.158011</td>\n      <td>930.278942</td>\n    </tr>\n    <tr>\n      <th>min</th>\n      <td>0.005000</td>\n      <td>0.140000</td>\n    </tr>\n    <tr>\n      <th>25%</th>\n      <td>0.600000</td>\n      <td>4.250000</td>\n    </tr>\n    <tr>\n      <th>50%</th>\n      <td>3.342500</td>\n      <td>17.250000</td>\n    </tr>\n    <tr>\n      <th>75%</th>\n      <td>48.202500</td>\n      <td>166.000000</td>\n    </tr>\n    <tr>\n      <th>max</th>\n      <td>6654.000000</td>\n      <td>5712.000000</td>\n    </tr>\n  </tbody>\n</table>\n</div>"
     },
     "execution_count": 6,
     "metadata": {},
     "output_type": "execute_result"
    }
   ],
   "source": [
    "brains.describe()"
   ]
  },
  {
   "cell_type": "code",
   "execution_count": 7,
   "metadata": {},
   "outputs": [
    {
     "data": {
      "text/plain": "<AxesSubplot:xlabel='Brain Weight', ylabel='Body Weight'>"
     },
     "execution_count": 7,
     "metadata": {},
     "output_type": "execute_result"
    },
    {
     "data": {
      "text/plain": "<Figure size 432x288 with 1 Axes>",
      "image/png": "[encoded data removed]"
     },
     "metadata": {
      "needs_background": "light"
     },
     "output_type": "display_data"
    }
   ],
   "source": [
    "brains.plot.scatter(x='Brain Weight', y='Body Weight')"
   ]
  },
  {
   "cell_type": "code",
   "execution_count": 8,
   "metadata": {},
   "outputs": [],
   "source": [
    "brains = brains[brains['Brain Weight'] < 500]\n",
    "x = brains['Brain Weight']\n",
    "y = brains['Body Weight']"
   ]
  },
  {
   "cell_type": "code",
   "execution_count": 9,
   "metadata": {},
   "outputs": [
    {
     "data": {
      "text/plain": "<AxesSubplot:xlabel='Brain Weight', ylabel='Body Weight'>"
     },
     "execution_count": 9,
     "metadata": {},
     "output_type": "execute_result"
    },
    {
     "data": {
      "text/plain": "<Figure size 432x288 with 1 Axes>",
      "image/png": "[encoded data removed]"
     },
     "metadata": {
      "needs_background": "light"
     },
     "output_type": "display_data"
    }
   ],
   "source": [
    "brains.plot.scatter(x='Brain Weight', y='Body Weight')"
   ]
  },
  {
   "cell_type": "code",
   "execution_count": 10,
   "metadata": {},
   "outputs": [
    {
     "name": "stderr",
     "output_type": "stream",
     "text": [
      "<ipython-input-10-79c0823ca61e>:3: SettingWithCopyWarning: \n",
      "A value is trying to be set on a copy of a slice from a DataFrame.\n",
      "Try using .loc[row_indexer,col_indexer] = value instead\n",
      "\n",
      "See the caveats in the documentation: https://pandas.pydata.org/pandas-docs/stable/user_guide/indexing.html#returning-a-view-versus-a-copy\n",
      "  xlog10 = brains['Log10 Brain Weight'] = np.log10(x)\n",
      "<ipython-input-10-79c0823ca61e>:4: SettingWithCopyWarning: \n",
      "A value is trying to be set on a copy of a slice from a DataFrame.\n",
      "Try using .loc[row_indexer,col_indexer] = value instead\n",
      "\n",
      "See the caveats in the documentation: https://pandas.pydata.org/pandas-docs/stable/user_guide/indexing.html#returning-a-view-versus-a-copy\n",
      "  ylog10 = brains['Log10 Body Weight'] = np.log10(y)\n"
     ]
    },
    {
     "data": {
      "text/plain": "<AxesSubplot:xlabel='Log10 Brain Weight', ylabel='Log10 Body Weight'>"
     },
     "execution_count": 10,
     "metadata": {},
     "output_type": "execute_result"
    },
    {
     "data": {
      "text/plain": "<Figure size 432x288 with 1 Axes>",
      "image/png": "[encoded data removed]"
     },
     "metadata": {
      "needs_background": "light"
     },
     "output_type": "display_data"
    }
   ],
   "source": [
    "# When we transform correctly our data, we can observe that they have a linear relation\n",
    "# So, we can apply our LinearRegression here\n",
    "xlog10 = brains['Log10 Brain Weight'] = np.log10(x)\n",
    "ylog10 = brains['Log10 Body Weight'] = np.log10(y)\n",
    "brains.plot.scatter(x='Log10 Brain Weight', y='Log10 Body Weight')"
   ]
  },
  {
   "cell_type": "markdown",
   "metadata": {},
   "source": [
    "# Phase de création du modèle"
   ]
  },
  {
   "cell_type": "code",
   "execution_count": 11,
   "metadata": {},
   "outputs": [],
   "source": [
    "estimator = LinearRegression()"
   ]
  },
  {
   "cell_type": "code",
   "execution_count": 12,
   "metadata": {},
   "outputs": [],
   "source": [
    "# x to X transformations\n",
    "X_linear = [[x] for x in x]\n",
    "X_log10 = [[x] for x in xlog10]"
   ]
  },
  {
   "cell_type": "code",
   "execution_count": 13,
   "metadata": {},
   "outputs": [],
   "source": [
    "params_linear = {\n",
    "    'estimator': estimator,\n",
    "    'cv': KFold(n_splits=5, shuffle=True, random_state=1),\n",
    "    'X': X_linear,\n",
    "    'y': y,\n",
    "    'scoring': 'r2'\n",
    "}\n",
    "\n",
    "params_log10 = {\n",
    "    'estimator': estimator,\n",
    "    'cv': KFold(n_splits=5, shuffle=True, random_state=1),\n",
    "    'X': X_log10,\n",
    "    'y': ylog10,\n",
    "    'scoring': 'r2'\n",
    "}"
   ]
  },
  {
   "cell_type": "code",
   "execution_count": 14,
   "metadata": {},
   "outputs": [
    {
     "data": {
      "text/plain": "-0.05077047902874878"
     },
     "execution_count": 14,
     "metadata": {},
     "output_type": "execute_result"
    }
   ],
   "source": [
    "cross_val_score(**params_linear).mean()"
   ]
  },
  {
   "cell_type": "code",
   "execution_count": 15,
   "metadata": {},
   "outputs": [
    {
     "data": {
      "text/plain": "0.8742960831727118"
     },
     "execution_count": 15,
     "metadata": {},
     "output_type": "execute_result"
    }
   ],
   "source": [
    "cross_val_score(**params_log10).mean()"
   ]
  },
  {
   "cell_type": "markdown",
   "metadata": {},
   "source": [
    "# Phase de prédiction"
   ]
  },
  {
   "cell_type": "code",
   "execution_count": 16,
   "metadata": {},
   "outputs": [
    {
     "data": {
      "text/plain": "LinearRegression()"
     },
     "execution_count": 16,
     "metadata": {},
     "output_type": "execute_result"
    }
   ],
   "source": [
    "values_to_predict = [[3.385], [1.350], [465]]\n",
    "values_to_predict_log10 = np.log10(values_to_predict)\n",
    "\n",
    "# estimators\n",
    "r_linear = LinearRegression()\n",
    "r_log10 = LinearRegression()\n",
    "\n",
    "# training\n",
    "r_linear.fit(X_linear, y)\n",
    "r_log10.fit(X_log10, ylog10)"
   ]
  },
  {
   "cell_type": "code",
   "execution_count": 17,
   "metadata": {},
   "outputs": [
    {
     "name": "stdout",
     "output_type": "stream",
     "text": [
      "Simple Linear Regression without transformation\n",
      "[ 58.15945098  55.41626991 680.41671463]\n"
     ]
    }
   ],
   "source": [
    "print(\"Simple Linear Regression without transformation\")\n",
    "\n",
    "print(r_linear.predict(values_to_predict))"
   ]
  },
  {
   "cell_type": "code",
   "execution_count": 18,
   "metadata": {},
   "outputs": [
    {
     "name": "stdout",
     "output_type": "stream",
     "text": [
      "Simple Linear Regression with transformation to log10\n",
      "[1.32847598 1.02690426 2.94342645]\n"
     ]
    }
   ],
   "source": [
    "print(\"Simple Linear Regression with transformation to log10\")\n",
    "\n",
    "predictions = r_log10.predict(values_to_predict_log10)\n",
    "print(predictions)"
   ]
  },
  {
   "cell_type": "markdown",
   "metadata": {},
   "source": [
    "# Phase de représentation"
   ]
  },
  {
   "cell_type": "code",
   "execution_count": 19,
   "metadata": {},
   "outputs": [
    {
     "data": {
      "text/plain": "<matplotlib.legend.Legend at 0x7fd3a79f1e50>"
     },
     "execution_count": 19,
     "metadata": {},
     "output_type": "execute_result"
    },
    {
     "data": {
      "text/plain": "<Figure size 432x288 with 1 Axes>",
      "image/png": "[encoded data removed]"
     },
     "metadata": {
      "needs_background": "light"
     },
     "output_type": "display_data"
    }
   ],
   "source": [
    "X = np.arange(0, 500)\n",
    "linear_line = X * r_linear.coef_ + r_linear.intercept_\n",
    "brains.plot.scatter(x='Brain Weight', y='Body Weight')\n",
    "plt.plot(X, linear_line, color = 'orange', label='linear reg')\n",
    "plt.ylabel('Body Weight')\n",
    "plt.xlabel('Brain Weight')\n",
    "plt.legend()"
   ]
  },
  {
   "cell_type": "code",
   "execution_count": 20,
   "metadata": {},
   "outputs": [
    {
     "data": {
      "text/plain": "<matplotlib.legend.Legend at 0x7fd3a79e5a90>"
     },
     "execution_count": 20,
     "metadata": {},
     "output_type": "execute_result"
    },
    {
     "data": {
      "text/plain": "<Figure size 432x288 with 1 Axes>",
      "image/png": "[encoded data removed]"
     },
     "metadata": {
      "needs_background": "light"
     },
     "output_type": "display_data"
    }
   ],
   "source": [
    "X = np.arange(-2.5, 3, 0.1)\n",
    "linear_line = X * r_log10.coef_ + r_log10.intercept_\n",
    "brains.plot.scatter(x='Log10 Brain Weight', y='Log10 Body Weight')\n",
    "plt.plot(X, linear_line, color = 'orange', label='linear reg')\n",
    "plt.ylabel('Body Weight')\n",
    "plt.xlabel('Brain Weight')\n",
    "plt.legend()"
   ]
  }
 ],
 "metadata": {
  "kernelspec": {
   "name": "pycharm-1b52d5e2",
   "language": "python",
   "display_name": "PyCharm (Mathematique)"
  },
  "language_info": {
   "codemirror_mode": {
    "name": "ipython",
    "version": 3
   },
   "file_extension": ".py",
   "mimetype": "text/x-python",
   "name": "python",
   "nbconvert_exporter": "python",
   "pygments_lexer": "ipython3",
   "version": "3.6.5"
  }
 },
 "nbformat": 4,
 "nbformat_minor": 2
}