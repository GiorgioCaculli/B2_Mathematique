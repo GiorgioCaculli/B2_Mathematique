{
 "cells": [
  {
   "cell_type": "code",
   "execution_count": 1,
   "outputs": [],
   "source": [
    "import numpy as np\n",
    "import pandas as pd\n",
    "from sklearn.metrics import mean_squared_error\n",
    "from sklearn.neighbors import KNeighborsRegressor\n",
    "from sklearn.model_selection import train_test_split, KFold, cross_val_score, GridSearchCV"
   ],
   "metadata": {
    "collapsed": false,
    "pycharm": {
     "name": "#%%\n"
    }
   }
  },
  {
   "cell_type": "code",
   "execution_count": 2,
   "metadata": {
    "collapsed": true,
    "pycharm": {
     "name": "#%%\n"
    }
   },
   "outputs": [],
   "source": [
    "PATH_DATA = 'all.csv'"
   ]
  },
  {
   "cell_type": "code",
   "execution_count": 3,
   "outputs": [],
   "source": [
    "sp = pd.read_csv(PATH_DATA, sep = '\\t')"
   ],
   "metadata": {
    "collapsed": false,
    "pycharm": {
     "name": "#%%\n"
    }
   }
  },
  {
   "cell_type": "code",
   "execution_count": 4,
   "outputs": [
    {
     "data": {
      "text/plain": "(671, 12)"
     },
     "execution_count": 4,
     "metadata": {},
     "output_type": "execute_result"
    }
   ],
   "source": [
    "sp.shape"
   ],
   "metadata": {
    "collapsed": false,
    "pycharm": {
     "name": "#%%\n"
    }
   }
  },
  {
   "cell_type": "code",
   "execution_count": 5,
   "outputs": [
    {
     "name": "stdout",
     "output_type": "stream",
     "text": [
      "<class 'pandas.core.frame.DataFrame'>\n",
      "RangeIndex: 671 entries, 0 to 670\n",
      "Data columns (total 12 columns):\n",
      " #   Column        Non-Null Count  Dtype \n",
      "---  ------        --------------  ----- \n",
      " 0   title         671 non-null    object\n",
      " 1   artist        671 non-null    object\n",
      " 2   release       671 non-null    object\n",
      " 3   bpm           671 non-null    int64 \n",
      " 4   energy        671 non-null    int64 \n",
      " 5   danceability  671 non-null    int64 \n",
      " 6   loud          671 non-null    int64 \n",
      " 7   valence       671 non-null    int64 \n",
      " 8   length        671 non-null    object\n",
      " 9   acoustic      671 non-null    int64 \n",
      " 10  popularity    671 non-null    int64 \n",
      " 11  style         671 non-null    object\n",
      "dtypes: int64(7), object(5)\n",
      "memory usage: 63.0+ KB\n"
     ]
    }
   ],
   "source": [
    "sp.info()"
   ],
   "metadata": {
    "collapsed": false,
    "pycharm": {
     "name": "#%%\n"
    }
   }
  },
  {
   "cell_type": "code",
   "execution_count": 6,
   "outputs": [
    {
     "data": {
      "text/plain": "                 title            artist   release  bpm  energy  danceability  \\\n0    Don't Let Me Down  The Chainsmokers   5/02/16  160      87            53   \n1  In the Name of Love     Martin Garrix  29/07/16  134      52            50   \n2              FRIENDS        Marshmello   9/02/18   95      88            63   \n3           The Middle              Zedd  23/01/18  107      65            75   \n4     Never Forget You      Zara Larsson  10/09/15  146      73            58   \n\n   loud  valence length  acoustic  popularity style  \n0    -5       42  03:28        16          84   POP  \n1    -6       17  03:16        11          83   POP  \n2    -2       53  03:23        21          90   POP  \n3    -3       43  03:05        21          54   POP  \n4    -6       28  03:33         0          22   POP  ",
      "text/html": "<div>\n<style scoped>\n    .dataframe tbody tr th:only-of-type {\n        vertical-align: middle;\n    }\n\n    .dataframe tbody tr th {\n        vertical-align: top;\n    }\n\n    .dataframe thead th {\n        text-align: right;\n    }\n</style>\n<table border=\"1\" class=\"dataframe\">\n  <thead>\n    <tr style=\"text-align: right;\">\n      <th></th>\n      <th>title</th>\n      <th>artist</th>\n      <th>release</th>\n      <th>bpm</th>\n      <th>energy</th>\n      <th>danceability</th>\n      <th>loud</th>\n      <th>valence</th>\n      <th>length</th>\n      <th>acoustic</th>\n      <th>popularity</th>\n      <th>style</th>\n    </tr>\n  </thead>\n  <tbody>\n    <tr>\n      <th>0</th>\n      <td>Don't Let Me Down</td>\n      <td>The Chainsmokers</td>\n      <td>5/02/16</td>\n      <td>160</td>\n      <td>87</td>\n      <td>53</td>\n      <td>-5</td>\n      <td>42</td>\n      <td>03:28</td>\n      <td>16</td>\n      <td>84</td>\n      <td>POP</td>\n    </tr>\n    <tr>\n      <th>1</th>\n      <td>In the Name of Love</td>\n      <td>Martin Garrix</td>\n      <td>29/07/16</td>\n      <td>134</td>\n      <td>52</td>\n      <td>50</td>\n      <td>-6</td>\n      <td>17</td>\n      <td>03:16</td>\n      <td>11</td>\n      <td>83</td>\n      <td>POP</td>\n    </tr>\n    <tr>\n      <th>2</th>\n      <td>FRIENDS</td>\n      <td>Marshmello</td>\n      <td>9/02/18</td>\n      <td>95</td>\n      <td>88</td>\n      <td>63</td>\n      <td>-2</td>\n      <td>53</td>\n      <td>03:23</td>\n      <td>21</td>\n      <td>90</td>\n      <td>POP</td>\n    </tr>\n    <tr>\n      <th>3</th>\n      <td>The Middle</td>\n      <td>Zedd</td>\n      <td>23/01/18</td>\n      <td>107</td>\n      <td>65</td>\n      <td>75</td>\n      <td>-3</td>\n      <td>43</td>\n      <td>03:05</td>\n      <td>21</td>\n      <td>54</td>\n      <td>POP</td>\n    </tr>\n    <tr>\n      <th>4</th>\n      <td>Never Forget You</td>\n      <td>Zara Larsson</td>\n      <td>10/09/15</td>\n      <td>146</td>\n      <td>73</td>\n      <td>58</td>\n      <td>-6</td>\n      <td>28</td>\n      <td>03:33</td>\n      <td>0</td>\n      <td>22</td>\n      <td>POP</td>\n    </tr>\n  </tbody>\n</table>\n</div>"
     },
     "execution_count": 6,
     "metadata": {},
     "output_type": "execute_result"
    }
   ],
   "source": [
    "sp.head()"
   ],
   "metadata": {
    "collapsed": false,
    "pycharm": {
     "name": "#%%\n"
    }
   }
  },
  {
   "cell_type": "code",
   "execution_count": 7,
   "outputs": [],
   "source": [
    "def length_to_sec(length):\n",
    "    minutes, seconds = length.split(':')\n",
    "    return int(minutes) * 60 + int(seconds)"
   ],
   "metadata": {
    "collapsed": false,
    "pycharm": {
     "name": "#%%\n"
    }
   }
  },
  {
   "cell_type": "code",
   "execution_count": 8,
   "outputs": [],
   "source": [
    "sp['length seconds'] = sp['length'].apply(length_to_sec)"
   ],
   "metadata": {
    "collapsed": false,
    "pycharm": {
     "name": "#%%\n"
    }
   }
  },
  {
   "cell_type": "code",
   "execution_count": 9,
   "outputs": [
    {
     "data": {
      "text/plain": "                 title            artist   release  bpm  energy  danceability  \\\n0    Don't Let Me Down  The Chainsmokers   5/02/16  160      87            53   \n1  In the Name of Love     Martin Garrix  29/07/16  134      52            50   \n2              FRIENDS        Marshmello   9/02/18   95      88            63   \n3           The Middle              Zedd  23/01/18  107      65            75   \n4     Never Forget You      Zara Larsson  10/09/15  146      73            58   \n\n   loud  valence length  acoustic  popularity style  length seconds  \n0    -5       42  03:28        16          84   POP             208  \n1    -6       17  03:16        11          83   POP             196  \n2    -2       53  03:23        21          90   POP             203  \n3    -3       43  03:05        21          54   POP             185  \n4    -6       28  03:33         0          22   POP             213  ",
      "text/html": "<div>\n<style scoped>\n    .dataframe tbody tr th:only-of-type {\n        vertical-align: middle;\n    }\n\n    .dataframe tbody tr th {\n        vertical-align: top;\n    }\n\n    .dataframe thead th {\n        text-align: right;\n    }\n</style>\n<table border=\"1\" class=\"dataframe\">\n  <thead>\n    <tr style=\"text-align: right;\">\n      <th></th>\n      <th>title</th>\n      <th>artist</th>\n      <th>release</th>\n      <th>bpm</th>\n      <th>energy</th>\n      <th>danceability</th>\n      <th>loud</th>\n      <th>valence</th>\n      <th>length</th>\n      <th>acoustic</th>\n      <th>popularity</th>\n      <th>style</th>\n      <th>length seconds</th>\n    </tr>\n  </thead>\n  <tbody>\n    <tr>\n      <th>0</th>\n      <td>Don't Let Me Down</td>\n      <td>The Chainsmokers</td>\n      <td>5/02/16</td>\n      <td>160</td>\n      <td>87</td>\n      <td>53</td>\n      <td>-5</td>\n      <td>42</td>\n      <td>03:28</td>\n      <td>16</td>\n      <td>84</td>\n      <td>POP</td>\n      <td>208</td>\n    </tr>\n    <tr>\n      <th>1</th>\n      <td>In the Name of Love</td>\n      <td>Martin Garrix</td>\n      <td>29/07/16</td>\n      <td>134</td>\n      <td>52</td>\n      <td>50</td>\n      <td>-6</td>\n      <td>17</td>\n      <td>03:16</td>\n      <td>11</td>\n      <td>83</td>\n      <td>POP</td>\n      <td>196</td>\n    </tr>\n    <tr>\n      <th>2</th>\n      <td>FRIENDS</td>\n      <td>Marshmello</td>\n      <td>9/02/18</td>\n      <td>95</td>\n      <td>88</td>\n      <td>63</td>\n      <td>-2</td>\n      <td>53</td>\n      <td>03:23</td>\n      <td>21</td>\n      <td>90</td>\n      <td>POP</td>\n      <td>203</td>\n    </tr>\n    <tr>\n      <th>3</th>\n      <td>The Middle</td>\n      <td>Zedd</td>\n      <td>23/01/18</td>\n      <td>107</td>\n      <td>65</td>\n      <td>75</td>\n      <td>-3</td>\n      <td>43</td>\n      <td>03:05</td>\n      <td>21</td>\n      <td>54</td>\n      <td>POP</td>\n      <td>185</td>\n    </tr>\n    <tr>\n      <th>4</th>\n      <td>Never Forget You</td>\n      <td>Zara Larsson</td>\n      <td>10/09/15</td>\n      <td>146</td>\n      <td>73</td>\n      <td>58</td>\n      <td>-6</td>\n      <td>28</td>\n      <td>03:33</td>\n      <td>0</td>\n      <td>22</td>\n      <td>POP</td>\n      <td>213</td>\n    </tr>\n  </tbody>\n</table>\n</div>"
     },
     "execution_count": 9,
     "metadata": {},
     "output_type": "execute_result"
    }
   ],
   "source": [
    "sp.head()"
   ],
   "metadata": {
    "collapsed": false,
    "pycharm": {
     "name": "#%%\n"
    }
   }
  },
  {
   "cell_type": "code",
   "execution_count": 10,
   "outputs": [
    {
     "data": {
      "text/plain": "bpm              -0.044197\nenergy            0.290425\ndanceability      1.000000\nloud              0.410181\nvalence           0.546807\nacoustic         -0.312721\npopularity        0.187963\nlength seconds   -0.121361\nName: danceability, dtype: float64"
     },
     "execution_count": 10,
     "metadata": {},
     "output_type": "execute_result"
    }
   ],
   "source": [
    "sp.corr()['danceability']"
   ],
   "metadata": {
    "collapsed": false,
    "pycharm": {
     "name": "#%%\n"
    }
   }
  },
  {
   "cell_type": "code",
   "execution_count": 11,
   "outputs": [],
   "source": [
    "features = ['energy', 'loud', 'valence']\n",
    "target = 'danceability'"
   ],
   "metadata": {
    "collapsed": false,
    "pycharm": {
     "name": "#%%\n"
    }
   }
  },
  {
   "cell_type": "code",
   "execution_count": 12,
   "outputs": [],
   "source": [
    "my_music = pd.DataFrame(\n",
    "    [[87, -6, 42]], columns=features\n",
    ").iloc[0]"
   ],
   "metadata": {
    "collapsed": false,
    "pycharm": {
     "name": "#%%\n"
    }
   }
  },
  {
   "cell_type": "code",
   "execution_count": 13,
   "outputs": [
    {
     "data": {
      "text/plain": "energy     87\nloud       -6\nvalence    42\nName: 0, dtype: int64"
     },
     "execution_count": 13,
     "metadata": {},
     "output_type": "execute_result"
    }
   ],
   "source": [
    "my_music"
   ],
   "metadata": {
    "collapsed": false,
    "pycharm": {
     "name": "#%%\n"
    }
   }
  },
  {
   "cell_type": "code",
   "execution_count": 14,
   "outputs": [
    {
     "data": {
      "text/plain": "title             Facing My Fear\nartist                    Cortes\nrelease                 29/10/16\nbpm                          168\nenergy                        81\ndanceability                  41\nloud                          -3\nvalence                       64\nlength                     03:22\nacoustic                       0\npopularity                     2\nstyle                       ROCK\nlength seconds               202\nName: 107, dtype: object"
     },
     "execution_count": 14,
     "metadata": {},
     "output_type": "execute_result"
    }
   ],
   "source": [
    "random_music = sp.sample(1, random_state=1).iloc[0]\n",
    "random_music"
   ],
   "metadata": {
    "collapsed": false,
    "pycharm": {
     "name": "#%%\n"
    }
   }
  },
  {
   "cell_type": "code",
   "execution_count": 15,
   "outputs": [
    {
     "data": {
      "text/plain": "23.0"
     },
     "execution_count": 15,
     "metadata": {},
     "output_type": "execute_result"
    }
   ],
   "source": [
    "def distance(music1, music2):\n",
    "    return((music1 - music2) ** 2).sum() ** 0.5\n",
    "\n",
    "distance(my_music, random_music)"
   ],
   "metadata": {
    "collapsed": false,
    "pycharm": {
     "name": "#%%\n"
    }
   }
  },
  {
   "cell_type": "code",
   "execution_count": 16,
   "outputs": [],
   "source": [
    "def distance_from_my_music(other_music):\n",
    "    return distance(my_music, other_music)"
   ],
   "metadata": {
    "collapsed": false,
    "pycharm": {
     "name": "#%%\n"
    }
   }
  },
  {
   "cell_type": "code",
   "execution_count": 17,
   "outputs": [],
   "source": [
    "distances = sp[features].apply(distance_from_my_music, axis=1)"
   ],
   "metadata": {
    "collapsed": false,
    "pycharm": {
     "name": "#%%\n"
    }
   }
  },
  {
   "cell_type": "code",
   "execution_count": 18,
   "outputs": [],
   "source": [
    "sp['Distance from my music'] = distances"
   ],
   "metadata": {
    "collapsed": false,
    "pycharm": {
     "name": "#%%\n"
    }
   }
  },
  {
   "cell_type": "code",
   "execution_count": 19,
   "outputs": [
    {
     "data": {
      "text/plain": "                 title            artist   release  bpm  energy  danceability  \\\n0    Don't Let Me Down  The Chainsmokers   5/02/16  160      87            53   \n1  In the Name of Love     Martin Garrix  29/07/16  134      52            50   \n2              FRIENDS        Marshmello   9/02/18   95      88            63   \n3           The Middle              Zedd  23/01/18  107      65            75   \n4     Never Forget You      Zara Larsson  10/09/15  146      73            58   \n\n   loud  valence length  acoustic  popularity style  length seconds  \\\n0    -5       42  03:28        16          84   POP             208   \n1    -6       17  03:16        11          83   POP             196   \n2    -2       53  03:23        21          90   POP             203   \n3    -3       43  03:05        21          54   POP             185   \n4    -6       28  03:33         0          22   POP             213   \n\n   Distance from my music  \n0                1.000000  \n1               43.011626  \n2               11.747340  \n3               22.226111  \n4               19.798990  ",
      "text/html": "<div>\n<style scoped>\n    .dataframe tbody tr th:only-of-type {\n        vertical-align: middle;\n    }\n\n    .dataframe tbody tr th {\n        vertical-align: top;\n    }\n\n    .dataframe thead th {\n        text-align: right;\n    }\n</style>\n<table border=\"1\" class=\"dataframe\">\n  <thead>\n    <tr style=\"text-align: right;\">\n      <th></th>\n      <th>title</th>\n      <th>artist</th>\n      <th>release</th>\n      <th>bpm</th>\n      <th>energy</th>\n      <th>danceability</th>\n      <th>loud</th>\n      <th>valence</th>\n      <th>length</th>\n      <th>acoustic</th>\n      <th>popularity</th>\n      <th>style</th>\n      <th>length seconds</th>\n      <th>Distance from my music</th>\n    </tr>\n  </thead>\n  <tbody>\n    <tr>\n      <th>0</th>\n      <td>Don't Let Me Down</td>\n      <td>The Chainsmokers</td>\n      <td>5/02/16</td>\n      <td>160</td>\n      <td>87</td>\n      <td>53</td>\n      <td>-5</td>\n      <td>42</td>\n      <td>03:28</td>\n      <td>16</td>\n      <td>84</td>\n      <td>POP</td>\n      <td>208</td>\n      <td>1.000000</td>\n    </tr>\n    <tr>\n      <th>1</th>\n      <td>In the Name of Love</td>\n      <td>Martin Garrix</td>\n      <td>29/07/16</td>\n      <td>134</td>\n      <td>52</td>\n      <td>50</td>\n      <td>-6</td>\n      <td>17</td>\n      <td>03:16</td>\n      <td>11</td>\n      <td>83</td>\n      <td>POP</td>\n      <td>196</td>\n      <td>43.011626</td>\n    </tr>\n    <tr>\n      <th>2</th>\n      <td>FRIENDS</td>\n      <td>Marshmello</td>\n      <td>9/02/18</td>\n      <td>95</td>\n      <td>88</td>\n      <td>63</td>\n      <td>-2</td>\n      <td>53</td>\n      <td>03:23</td>\n      <td>21</td>\n      <td>90</td>\n      <td>POP</td>\n      <td>203</td>\n      <td>11.747340</td>\n    </tr>\n    <tr>\n      <th>3</th>\n      <td>The Middle</td>\n      <td>Zedd</td>\n      <td>23/01/18</td>\n      <td>107</td>\n      <td>65</td>\n      <td>75</td>\n      <td>-3</td>\n      <td>43</td>\n      <td>03:05</td>\n      <td>21</td>\n      <td>54</td>\n      <td>POP</td>\n      <td>185</td>\n      <td>22.226111</td>\n    </tr>\n    <tr>\n      <th>4</th>\n      <td>Never Forget You</td>\n      <td>Zara Larsson</td>\n      <td>10/09/15</td>\n      <td>146</td>\n      <td>73</td>\n      <td>58</td>\n      <td>-6</td>\n      <td>28</td>\n      <td>03:33</td>\n      <td>0</td>\n      <td>22</td>\n      <td>POP</td>\n      <td>213</td>\n      <td>19.798990</td>\n    </tr>\n  </tbody>\n</table>\n</div>"
     },
     "execution_count": 19,
     "metadata": {},
     "output_type": "execute_result"
    }
   ],
   "source": [
    "sp.head()"
   ],
   "metadata": {
    "collapsed": false,
    "pycharm": {
     "name": "#%%\n"
    }
   }
  },
  {
   "cell_type": "markdown",
   "source": [
    "# Danceability sur 10 voisin?"
   ],
   "metadata": {
    "collapsed": false,
    "pycharm": {
     "name": "#%% md\n"
    }
   }
  },
  {
   "cell_type": "code",
   "execution_count": 20,
   "outputs": [
    {
     "data": {
      "text/plain": "44.1"
     },
     "execution_count": 20,
     "metadata": {},
     "output_type": "execute_result"
    }
   ],
   "source": [
    "sp.sort_values(by='Distance from my music').head(10)['danceability'].mean()"
   ],
   "metadata": {
    "collapsed": false,
    "pycharm": {
     "name": "#%%\n"
    }
   }
  },
  {
   "cell_type": "code",
   "execution_count": 21,
   "outputs": [],
   "source": [
    "knn_mono = KNeighborsRegressor(10, algorithm='brute')"
   ],
   "metadata": {
    "collapsed": false,
    "pycharm": {
     "name": "#%%\n"
    }
   }
  },
  {
   "cell_type": "code",
   "execution_count": 22,
   "outputs": [],
   "source": [
    "X_mono = sp[['energy']]\n",
    "y = sp['danceability']"
   ],
   "metadata": {
    "collapsed": false,
    "pycharm": {
     "name": "#%%\n"
    }
   }
  },
  {
   "cell_type": "code",
   "execution_count": 23,
   "outputs": [
    {
     "data": {
      "text/plain": "KNeighborsRegressor(algorithm='brute', n_neighbors=10)"
     },
     "execution_count": 23,
     "metadata": {},
     "output_type": "execute_result"
    }
   ],
   "source": [
    "knn_mono.fit(X_mono, y)"
   ],
   "metadata": {
    "collapsed": false,
    "pycharm": {
     "name": "#%%\n"
    }
   }
  },
  {
   "cell_type": "code",
   "execution_count": 24,
   "outputs": [
    {
     "data": {
      "text/plain": "array([59.2, 65.1, 62.1])"
     },
     "execution_count": 24,
     "metadata": {},
     "output_type": "execute_result"
    }
   ],
   "source": [
    "knn_mono.predict([\n",
    "    [52],\n",
    "    [60],\n",
    "    [45]\n",
    "])"
   ],
   "metadata": {
    "collapsed": false,
    "pycharm": {
     "name": "#%%\n"
    }
   }
  },
  {
   "cell_type": "code",
   "execution_count": 25,
   "outputs": [],
   "source": [
    "knn_multi = KNeighborsRegressor(10, algorithm='brute')"
   ],
   "metadata": {
    "collapsed": false,
    "pycharm": {
     "name": "#%%\n"
    }
   }
  },
  {
   "cell_type": "code",
   "execution_count": 26,
   "outputs": [],
   "source": [
    "X_multi = sp[['energy', 'loud', 'valence']]"
   ],
   "metadata": {
    "collapsed": false,
    "pycharm": {
     "name": "#%%\n"
    }
   }
  },
  {
   "cell_type": "code",
   "execution_count": 27,
   "outputs": [
    {
     "data": {
      "text/plain": "KNeighborsRegressor(algorithm='brute', n_neighbors=10)"
     },
     "execution_count": 27,
     "metadata": {},
     "output_type": "execute_result"
    }
   ],
   "source": [
    "knn_multi.fit(X_multi, y)"
   ],
   "metadata": {
    "collapsed": false,
    "pycharm": {
     "name": "#%%\n"
    }
   }
  },
  {
   "cell_type": "code",
   "execution_count": 28,
   "outputs": [
    {
     "data": {
      "text/plain": "array([46.4])"
     },
     "execution_count": 28,
     "metadata": {},
     "output_type": "execute_result"
    }
   ],
   "source": [
    "knn_multi.predict([\n",
    "    [87, -6, 42]\n",
    "])"
   ],
   "metadata": {
    "collapsed": false,
    "pycharm": {
     "name": "#%%\n"
    }
   }
  },
  {
   "cell_type": "markdown",
   "source": [
    "##### Pour comparer des modèles, nous pouvons utiliser le MSE = Mean Squared Error"
   ],
   "metadata": {
    "collapsed": false,
    "pycharm": {
     "name": "#%% md\n"
    }
   }
  },
  {
   "cell_type": "code",
   "execution_count": 29,
   "outputs": [],
   "source": [
    "Y_predicted_mono = knn_mono.predict(sp[['energy']])"
   ],
   "metadata": {
    "collapsed": false,
    "pycharm": {
     "name": "#%%\n"
    }
   }
  },
  {
   "cell_type": "code",
   "execution_count": 30,
   "outputs": [
    {
     "data": {
      "text/plain": "209.1635171385991"
     },
     "execution_count": 30,
     "metadata": {},
     "output_type": "execute_result"
    }
   ],
   "source": [
    "mse_mono = ((y - Y_predicted_mono) ** 2).mean()\n",
    "mse_mono"
   ],
   "metadata": {
    "collapsed": false,
    "pycharm": {
     "name": "#%%\n"
    }
   }
  },
  {
   "cell_type": "code",
   "execution_count": 31,
   "outputs": [
    {
     "data": {
      "text/plain": "14.462486547568474"
     },
     "execution_count": 31,
     "metadata": {},
     "output_type": "execute_result"
    }
   ],
   "source": [
    "mse_mono ** 0.5"
   ],
   "metadata": {
    "collapsed": false,
    "pycharm": {
     "name": "#%%\n"
    }
   }
  },
  {
   "cell_type": "code",
   "execution_count": 32,
   "outputs": [],
   "source": [
    "Y_predicted_multi = knn_multi.predict(sp[['energy', 'loud', 'valence']])"
   ],
   "metadata": {
    "collapsed": false,
    "pycharm": {
     "name": "#%%\n"
    }
   }
  },
  {
   "cell_type": "code",
   "execution_count": 33,
   "outputs": [
    {
     "data": {
      "text/plain": "149.33047690014902"
     },
     "execution_count": 33,
     "metadata": {},
     "output_type": "execute_result"
    }
   ],
   "source": [
    "mse_multi = ((y - Y_predicted_multi) ** 2).mean()\n",
    "mse_multi"
   ],
   "metadata": {
    "collapsed": false,
    "pycharm": {
     "name": "#%%\n"
    }
   }
  },
  {
   "cell_type": "code",
   "execution_count": 34,
   "outputs": [
    {
     "data": {
      "text/plain": "12.220084979252356"
     },
     "execution_count": 34,
     "metadata": {},
     "output_type": "execute_result"
    }
   ],
   "source": [
    "mse_multi ** 0.5"
   ],
   "metadata": {
    "collapsed": false,
    "pycharm": {
     "name": "#%%\n"
    }
   }
  },
  {
   "cell_type": "code",
   "execution_count": 35,
   "outputs": [
    {
     "data": {
      "text/plain": "12.220084979252356"
     },
     "execution_count": 35,
     "metadata": {},
     "output_type": "execute_result"
    }
   ],
   "source": [
    "mean_squared_error(y, Y_predicted_multi) ** 0.5"
   ],
   "metadata": {
    "collapsed": false,
    "pycharm": {
     "name": "#%%\n"
    }
   }
  },
  {
   "cell_type": "markdown",
   "source": [
    "##### Overfitting"
   ],
   "metadata": {
    "collapsed": false,
    "pycharm": {
     "name": "#%% md\n"
    }
   }
  },
  {
   "cell_type": "code",
   "execution_count": 36,
   "outputs": [],
   "source": [
    "train, test = train_test_split(sp, test_size=0.2, random_state=1)"
   ],
   "metadata": {
    "collapsed": false,
    "pycharm": {
     "name": "#%%\n"
    }
   }
  },
  {
   "cell_type": "code",
   "execution_count": 37,
   "outputs": [],
   "source": [
    "knn = KNeighborsRegressor(5, algorithm='brute')"
   ],
   "metadata": {
    "collapsed": false,
    "pycharm": {
     "name": "#%%\n"
    }
   }
  },
  {
   "cell_type": "code",
   "execution_count": 38,
   "outputs": [
    {
     "data": {
      "text/plain": "KNeighborsRegressor(algorithm='brute')"
     },
     "execution_count": 38,
     "metadata": {},
     "output_type": "execute_result"
    }
   ],
   "source": [
    "knn.fit(train[['energy', 'loud', 'valence']], train['danceability'])"
   ],
   "metadata": {
    "collapsed": false,
    "pycharm": {
     "name": "#%%\n"
    }
   }
  },
  {
   "cell_type": "code",
   "execution_count": 39,
   "outputs": [
    {
     "data": {
      "text/plain": "array([38.6])"
     },
     "execution_count": 39,
     "metadata": {},
     "output_type": "execute_result"
    }
   ],
   "source": [
    "knn.predict([\n",
    "    [87, -6, 42]\n",
    "])"
   ],
   "metadata": {
    "collapsed": false,
    "pycharm": {
     "name": "#%%\n"
    }
   }
  },
  {
   "cell_type": "code",
   "execution_count": 40,
   "outputs": [],
   "source": [
    "mse = mean_squared_error(\n",
    "    test['danceability'],\n",
    "    knn.predict(test[['energy', 'loud', 'valence']])\n",
    ")"
   ],
   "metadata": {
    "collapsed": false,
    "pycharm": {
     "name": "#%%\n"
    }
   }
  },
  {
   "cell_type": "code",
   "execution_count": 41,
   "outputs": [
    {
     "data": {
      "text/plain": "14.529969029560936"
     },
     "execution_count": 41,
     "metadata": {},
     "output_type": "execute_result"
    }
   ],
   "source": [
    "mse ** 0.5"
   ],
   "metadata": {
    "collapsed": false,
    "pycharm": {
     "name": "#%%\n"
    }
   }
  },
  {
   "cell_type": "code",
   "execution_count": 42,
   "outputs": [],
   "source": [
    "kfold = KFold(n_splits=5, shuffle=True, random_state=1)"
   ],
   "metadata": {
    "collapsed": false,
    "pycharm": {
     "name": "#%%\n"
    }
   }
  },
  {
   "cell_type": "code",
   "execution_count": 43,
   "outputs": [],
   "source": [
    "mses = []\n",
    "\n",
    "for train_index, test_index in kfold.split(sp):\n",
    "    # Je selectionne mes donnees via les indices\n",
    "    train_set = sp.iloc[train_index]\n",
    "    test_set = sp.iloc[test_index]\n",
    "\n",
    "    # Je selectionne mes donnees pour les entrainements et pour les tests\n",
    "    train_X = train_set[['energy', 'loud', 'valence']]\n",
    "    train_Y = train_set['danceability']\n",
    "\n",
    "    test_X = test_set[['energy', 'loud', 'valence']]\n",
    "    test_Y = test_set['danceability']\n",
    "\n",
    "    # Je cree mon modele\n",
    "    knn_fold = KNeighborsRegressor(5, algorithm='brute')\n",
    "\n",
    "    # Je l'entraine avec mes donnees d'entrainement\n",
    "    knn_fold.fit(train_X, train_Y)\n",
    "\n",
    "    # Je predis les donnees via mes donnees de tests\n",
    "    Y_predicted = knn_fold.predict(test_X)\n",
    "\n",
    "    # Je calcule mon MSE via mes donnees de tests\n",
    "    mse = mean_squared_error(test_Y, Y_predicted)\n",
    "\n",
    "    # J'ajoute le MSE a la liste\n",
    "    mses.append(mse)"
   ],
   "metadata": {
    "collapsed": false,
    "pycharm": {
     "name": "#%%\n"
    }
   }
  },
  {
   "cell_type": "markdown",
   "source": [
    "# Hyper-paramétrisation\n"
   ],
   "metadata": {
    "collapsed": false
   }
  },
  {
   "cell_type": "code",
   "execution_count": 44,
   "outputs": [
    {
     "data": {
      "text/plain": "192.40376738529577"
     },
     "execution_count": 44,
     "metadata": {},
     "output_type": "execute_result"
    }
   ],
   "source": [
    "np.mean(mses)"
   ],
   "metadata": {
    "collapsed": false,
    "pycharm": {
     "name": "#%%\n"
    }
   }
  },
  {
   "cell_type": "code",
   "execution_count": 45,
   "outputs": [
    {
     "data": {
      "text/plain": "192.40376738529577"
     },
     "execution_count": 45,
     "metadata": {},
     "output_type": "execute_result"
    }
   ],
   "source": [
    "X = sp[['energy', 'loud', 'valence']]\n",
    "y = sp['danceability']\n",
    "blank_model = KNeighborsRegressor(5, algorithm='brute')\n",
    "kfold = KFold(n_splits=5, shuffle=True, random_state=1)\n",
    "\n",
    "np.mean(\n",
    "    -cross_val_score(blank_model, X, y, cv=kfold, scoring='neg_mean_squared_error')\n",
    ")"
   ],
   "metadata": {
    "collapsed": false,
    "pycharm": {
     "name": "#%%\n"
    }
   }
  },
  {
   "cell_type": "code",
   "execution_count": 46,
   "outputs": [],
   "source": [
    "blank_model = KNeighborsRegressor(algorithm='brute')\n",
    "kfold = KFold(n_splits=5, shuffle=True, random_state=1)\n",
    "parameters = {\n",
    "    'n_neighbors' : list(range(1, 31))\n",
    "}"
   ],
   "metadata": {
    "collapsed": false,
    "pycharm": {
     "name": "#%%\n"
    }
   }
  },
  {
   "cell_type": "code",
   "execution_count": 47,
   "outputs": [
    {
     "data": {
      "text/plain": "GridSearchCV(cv=KFold(n_splits=5, random_state=1, shuffle=True),\n             estimator=KNeighborsRegressor(algorithm='brute'),\n             param_grid={'n_neighbors': [1, 2, 3, 4, 5, 6, 7, 8, 9, 10, 11, 12,\n                                         13, 14, 15, 16, 17, 18, 19, 20, 21, 22,\n                                         23, 24, 25, 26, 27, 28, 29, 30]},\n             scoring='neg_mean_squared_error')"
     },
     "execution_count": 47,
     "metadata": {},
     "output_type": "execute_result"
    }
   ],
   "source": [
    "gs = GridSearchCV(blank_model, parameters, cv=kfold, scoring='neg_mean_squared_error')\n",
    "gs.fit(sp[['energy', 'loud', 'valence']], sp['danceability'])"
   ],
   "metadata": {
    "collapsed": false,
    "pycharm": {
     "name": "#%%\n"
    }
   }
  },
  {
   "cell_type": "code",
   "execution_count": 48,
   "outputs": [
    {
     "data": {
      "text/plain": "{'n_neighbors': 14}"
     },
     "execution_count": 48,
     "metadata": {},
     "output_type": "execute_result"
    }
   ],
   "source": [
    "gs.best_params_"
   ],
   "metadata": {
    "collapsed": false,
    "pycharm": {
     "name": "#%%\n"
    }
   }
  },
  {
   "cell_type": "code",
   "execution_count": 49,
   "outputs": [
    {
     "data": {
      "text/plain": "KNeighborsRegressor(algorithm='brute', n_neighbors=14)"
     },
     "execution_count": 49,
     "metadata": {},
     "output_type": "execute_result"
    }
   ],
   "source": [
    "gs.best_estimator_"
   ],
   "metadata": {
    "collapsed": false,
    "pycharm": {
     "name": "#%%\n"
    }
   }
  }
 ],
 "metadata": {
  "kernelspec": {
   "name": "pycharm-1b52d5e2",
   "language": "python",
   "display_name": "PyCharm (Mathematique)"
  },
  "language_info": {
   "codemirror_mode": {
    "name": "ipython",
    "version": 2
   },
   "file_extension": ".py",
   "mimetype": "text/x-python",
   "name": "python",
   "nbconvert_exporter": "python",
   "pygments_lexer": "ipython2",
   "version": "2.7.6"
  }
 },
 "nbformat": 4,
 "nbformat_minor": 0
}