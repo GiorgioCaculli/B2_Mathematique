{
 "cells": [
  {
   "cell_type": "code",
   "execution_count": 1,
   "metadata": {},
   "outputs": [],
   "source": [
    "import numpy as np\n",
    "import pandas as pd\n",
    "import seaborn as sns\n",
    "import matplotlib.pyplot as plt\n",
    "from sklearn.feature_selection import RFECV\n",
    "from sklearn.linear_model import LinearRegression\n",
    "from sklearn.metrics import r2_score, mean_squared_error\n",
    "from sklearn.model_selection import train_test_split, KFold, cross_val_score\n",
    "%matplotlib inline"
   ]
  },
  {
   "cell_type": "code",
   "execution_count": 2,
   "metadata": {},
   "outputs": [],
   "source": [
    "PATH = 'all.csv'"
   ]
  },
  {
   "cell_type": "markdown",
   "metadata": {},
   "source": [
    "# 1. Chargement des données"
   ]
  },
  {
   "cell_type": "markdown",
   "metadata": {},
   "source": [
    "***"
   ]
  },
  {
   "cell_type": "code",
   "execution_count": 3,
   "metadata": {},
   "outputs": [],
   "source": [
    "sp = pd.read_csv(PATH, sep = '\\t')"
   ]
  },
  {
   "cell_type": "code",
   "execution_count": 4,
   "metadata": {},
   "outputs": [
    {
     "data": {
      "text/plain": "(671, 12)"
     },
     "execution_count": 4,
     "metadata": {},
     "output_type": "execute_result"
    }
   ],
   "source": [
    "sp.shape"
   ]
  },
  {
   "cell_type": "code",
   "execution_count": 5,
   "metadata": {},
   "outputs": [
    {
     "name": "stdout",
     "output_type": "stream",
     "text": [
      "<class 'pandas.core.frame.DataFrame'>\n",
      "RangeIndex: 671 entries, 0 to 670\n",
      "Data columns (total 12 columns):\n",
      " #   Column        Non-Null Count  Dtype \n",
      "---  ------        --------------  ----- \n",
      " 0   title         671 non-null    object\n",
      " 1   artist        671 non-null    object\n",
      " 2   release       671 non-null    object\n",
      " 3   bpm           671 non-null    int64 \n",
      " 4   energy        671 non-null    int64 \n",
      " 5   danceability  671 non-null    int64 \n",
      " 6   loud          671 non-null    int64 \n",
      " 7   valence       671 non-null    int64 \n",
      " 8   length        671 non-null    object\n",
      " 9   acoustic      671 non-null    int64 \n",
      " 10  popularity    671 non-null    int64 \n",
      " 11  style         671 non-null    object\n",
      "dtypes: int64(7), object(5)\n",
      "memory usage: 63.0+ KB\n"
     ]
    }
   ],
   "source": [
    "sp.info()"
   ]
  },
  {
   "cell_type": "code",
   "execution_count": 6,
   "metadata": {
    "scrolled": true
   },
   "outputs": [
    {
     "data": {
      "text/plain": "                 title            artist   release  bpm  energy  danceability  \\\n0    Don't Let Me Down  The Chainsmokers   5/02/16  160      87            53   \n1  In the Name of Love     Martin Garrix  29/07/16  134      52            50   \n2              FRIENDS        Marshmello   9/02/18   95      88            63   \n3           The Middle              Zedd  23/01/18  107      65            75   \n4     Never Forget You      Zara Larsson  10/09/15  146      73            58   \n\n   loud  valence length  acoustic  popularity style  \n0    -5       42  03:28        16          84   POP  \n1    -6       17  03:16        11          83   POP  \n2    -2       53  03:23        21          90   POP  \n3    -3       43  03:05        21          54   POP  \n4    -6       28  03:33         0          22   POP  ",
      "text/html": "<div>\n<style scoped>\n    .dataframe tbody tr th:only-of-type {\n        vertical-align: middle;\n    }\n\n    .dataframe tbody tr th {\n        vertical-align: top;\n    }\n\n    .dataframe thead th {\n        text-align: right;\n    }\n</style>\n<table border=\"1\" class=\"dataframe\">\n  <thead>\n    <tr style=\"text-align: right;\">\n      <th></th>\n      <th>title</th>\n      <th>artist</th>\n      <th>release</th>\n      <th>bpm</th>\n      <th>energy</th>\n      <th>danceability</th>\n      <th>loud</th>\n      <th>valence</th>\n      <th>length</th>\n      <th>acoustic</th>\n      <th>popularity</th>\n      <th>style</th>\n    </tr>\n  </thead>\n  <tbody>\n    <tr>\n      <th>0</th>\n      <td>Don't Let Me Down</td>\n      <td>The Chainsmokers</td>\n      <td>5/02/16</td>\n      <td>160</td>\n      <td>87</td>\n      <td>53</td>\n      <td>-5</td>\n      <td>42</td>\n      <td>03:28</td>\n      <td>16</td>\n      <td>84</td>\n      <td>POP</td>\n    </tr>\n    <tr>\n      <th>1</th>\n      <td>In the Name of Love</td>\n      <td>Martin Garrix</td>\n      <td>29/07/16</td>\n      <td>134</td>\n      <td>52</td>\n      <td>50</td>\n      <td>-6</td>\n      <td>17</td>\n      <td>03:16</td>\n      <td>11</td>\n      <td>83</td>\n      <td>POP</td>\n    </tr>\n    <tr>\n      <th>2</th>\n      <td>FRIENDS</td>\n      <td>Marshmello</td>\n      <td>9/02/18</td>\n      <td>95</td>\n      <td>88</td>\n      <td>63</td>\n      <td>-2</td>\n      <td>53</td>\n      <td>03:23</td>\n      <td>21</td>\n      <td>90</td>\n      <td>POP</td>\n    </tr>\n    <tr>\n      <th>3</th>\n      <td>The Middle</td>\n      <td>Zedd</td>\n      <td>23/01/18</td>\n      <td>107</td>\n      <td>65</td>\n      <td>75</td>\n      <td>-3</td>\n      <td>43</td>\n      <td>03:05</td>\n      <td>21</td>\n      <td>54</td>\n      <td>POP</td>\n    </tr>\n    <tr>\n      <th>4</th>\n      <td>Never Forget You</td>\n      <td>Zara Larsson</td>\n      <td>10/09/15</td>\n      <td>146</td>\n      <td>73</td>\n      <td>58</td>\n      <td>-6</td>\n      <td>28</td>\n      <td>03:33</td>\n      <td>0</td>\n      <td>22</td>\n      <td>POP</td>\n    </tr>\n  </tbody>\n</table>\n</div>"
     },
     "execution_count": 6,
     "metadata": {},
     "output_type": "execute_result"
    }
   ],
   "source": [
    "sp.head()"
   ]
  },
  {
   "cell_type": "markdown",
   "metadata": {},
   "source": [
    "# 2. Préparation des données"
   ]
  },
  {
   "cell_type": "markdown",
   "metadata": {},
   "source": [
    "***"
   ]
  },
  {
   "cell_type": "markdown",
   "metadata": {},
   "source": [
    "## 2.1 Minutes en secondes"
   ]
  },
  {
   "cell_type": "markdown",
   "metadata": {},
   "source": [
    "Comme nous l'avions déjà fait précédemment, nous transformons nos minutes en secondes."
   ]
  },
  {
   "cell_type": "code",
   "execution_count": 7,
   "metadata": {},
   "outputs": [],
   "source": [
    "def minutes_to_seconds(m):\n",
    "    m, s = m.split(':')\n",
    "    return int(m) * 60 + int(s)"
   ]
  },
  {
   "cell_type": "code",
   "execution_count": 8,
   "metadata": {},
   "outputs": [],
   "source": [
    "sp['seconds'] = sp['length'].apply(minutes_to_seconds)"
   ]
  },
  {
   "cell_type": "markdown",
   "metadata": {},
   "source": [
    "## 2.2 Transformer les types de chansons en dummy variables "
   ]
  },
  {
   "cell_type": "markdown",
   "metadata": {},
   "source": [
    "Cette fois-ci, nous allons créer quelque chose de légèrement différent : des dummy variables. Dans le monde du développement, nous les connaissons sous un autre nom : variables booléennes."
   ]
  },
  {
   "cell_type": "markdown",
   "metadata": {},
   "source": [
    "Dans ce cas, le type de chanson est ici codé en tant que chaîne de caractères. Dans une régression, ce type de variable ne peut être traité... sauf si on les transforme en dummy variables. "
   ]
  },
  {
   "cell_type": "markdown",
   "metadata": {},
   "source": [
    "### 2.2.1 Exemple de dummy variables (avec l'aide d'un fichier de données factice)"
   ]
  },
  {
   "cell_type": "markdown",
   "metadata": {},
   "source": [
    "Regardons cela de plus près :"
   ]
  },
  {
   "cell_type": "code",
   "execution_count": 9,
   "metadata": {},
   "outputs": [],
   "source": [
    "PATH_DUMMIES = 'futur_dummies.csv'"
   ]
  },
  {
   "cell_type": "code",
   "execution_count": 10,
   "metadata": {},
   "outputs": [],
   "source": [
    "futur_dummies = pd.read_csv(PATH_DUMMIES, sep =';')"
   ]
  },
  {
   "cell_type": "code",
   "execution_count": 11,
   "metadata": {},
   "outputs": [
    {
     "data": {
      "text/plain": "                music        review\n0            Pressure          Cool\n1  Breaking the habit          Cool\n2         Radioactive       Neutral\n3            Umbrella  Not my style\n4             Maniacs          Cool",
      "text/html": "<div>\n<style scoped>\n    .dataframe tbody tr th:only-of-type {\n        vertical-align: middle;\n    }\n\n    .dataframe tbody tr th {\n        vertical-align: top;\n    }\n\n    .dataframe thead th {\n        text-align: right;\n    }\n</style>\n<table border=\"1\" class=\"dataframe\">\n  <thead>\n    <tr style=\"text-align: right;\">\n      <th></th>\n      <th>music</th>\n      <th>review</th>\n    </tr>\n  </thead>\n  <tbody>\n    <tr>\n      <th>0</th>\n      <td>Pressure</td>\n      <td>Cool</td>\n    </tr>\n    <tr>\n      <th>1</th>\n      <td>Breaking the habit</td>\n      <td>Cool</td>\n    </tr>\n    <tr>\n      <th>2</th>\n      <td>Radioactive</td>\n      <td>Neutral</td>\n    </tr>\n    <tr>\n      <th>3</th>\n      <td>Umbrella</td>\n      <td>Not my style</td>\n    </tr>\n    <tr>\n      <th>4</th>\n      <td>Maniacs</td>\n      <td>Cool</td>\n    </tr>\n  </tbody>\n</table>\n</div>"
     },
     "execution_count": 11,
     "metadata": {},
     "output_type": "execute_result"
    }
   ],
   "source": [
    "futur_dummies"
   ]
  },
  {
   "cell_type": "markdown",
   "metadata": {},
   "source": [
    "Comme vous pouvez le voir, la colonne review est ici en chaîne de caractères. Pour la transformer en valeurs booléennes, nous allons utiliser la fonction **get_dummies** de pandas."
   ]
  },
  {
   "cell_type": "code",
   "execution_count": 12,
   "metadata": {},
   "outputs": [],
   "source": [
    "review_dummies = pd.get_dummies(futur_dummies['review'], prefix='review_')"
   ]
  },
  {
   "cell_type": "code",
   "execution_count": 13,
   "metadata": {},
   "outputs": [
    {
     "data": {
      "text/plain": "   review__Cool  review__Neutral  review__Not my style\n0             1                0                     0\n1             1                0                     0\n2             0                1                     0\n3             0                0                     1\n4             1                0                     0",
      "text/html": "<div>\n<style scoped>\n    .dataframe tbody tr th:only-of-type {\n        vertical-align: middle;\n    }\n\n    .dataframe tbody tr th {\n        vertical-align: top;\n    }\n\n    .dataframe thead th {\n        text-align: right;\n    }\n</style>\n<table border=\"1\" class=\"dataframe\">\n  <thead>\n    <tr style=\"text-align: right;\">\n      <th></th>\n      <th>review__Cool</th>\n      <th>review__Neutral</th>\n      <th>review__Not my style</th>\n    </tr>\n  </thead>\n  <tbody>\n    <tr>\n      <th>0</th>\n      <td>1</td>\n      <td>0</td>\n      <td>0</td>\n    </tr>\n    <tr>\n      <th>1</th>\n      <td>1</td>\n      <td>0</td>\n      <td>0</td>\n    </tr>\n    <tr>\n      <th>2</th>\n      <td>0</td>\n      <td>1</td>\n      <td>0</td>\n    </tr>\n    <tr>\n      <th>3</th>\n      <td>0</td>\n      <td>0</td>\n      <td>1</td>\n    </tr>\n    <tr>\n      <th>4</th>\n      <td>1</td>\n      <td>0</td>\n      <td>0</td>\n    </tr>\n  </tbody>\n</table>\n</div>"
     },
     "execution_count": 13,
     "metadata": {},
     "output_type": "execute_result"
    }
   ],
   "source": [
    "review_dummies"
   ]
  },
  {
   "cell_type": "markdown",
   "metadata": {},
   "source": [
    "Comprenons ensemble ses paramètres :\n",
    "1. on lui envoie notre colonne codée en string ;\n",
    "2. on supprime une des valeurs booléennes pour éviter la **multicolinéarité** (d'où le **drop_first**) ;\n",
    "3. on ajoute un préfixe aux nouvelles colonnes créées."
   ]
  },
  {
   "cell_type": "markdown",
   "metadata": {},
   "source": [
    "Dorénavant, il suffit de concaténer nos deux DataFrame : "
   ]
  },
  {
   "cell_type": "code",
   "execution_count": 14,
   "metadata": {},
   "outputs": [],
   "source": [
    "new_data_frame_with_dummies = pd.concat([futur_dummies, review_dummies], axis = 1)"
   ]
  },
  {
   "cell_type": "code",
   "execution_count": 15,
   "metadata": {},
   "outputs": [
    {
     "data": {
      "text/plain": "                music        review  review__Cool  review__Neutral  \\\n0            Pressure          Cool             1                0   \n1  Breaking the habit          Cool             1                0   \n2         Radioactive       Neutral             0                1   \n3            Umbrella  Not my style             0                0   \n4             Maniacs          Cool             1                0   \n\n   review__Not my style  \n0                     0  \n1                     0  \n2                     0  \n3                     1  \n4                     0  ",
      "text/html": "<div>\n<style scoped>\n    .dataframe tbody tr th:only-of-type {\n        vertical-align: middle;\n    }\n\n    .dataframe tbody tr th {\n        vertical-align: top;\n    }\n\n    .dataframe thead th {\n        text-align: right;\n    }\n</style>\n<table border=\"1\" class=\"dataframe\">\n  <thead>\n    <tr style=\"text-align: right;\">\n      <th></th>\n      <th>music</th>\n      <th>review</th>\n      <th>review__Cool</th>\n      <th>review__Neutral</th>\n      <th>review__Not my style</th>\n    </tr>\n  </thead>\n  <tbody>\n    <tr>\n      <th>0</th>\n      <td>Pressure</td>\n      <td>Cool</td>\n      <td>1</td>\n      <td>0</td>\n      <td>0</td>\n    </tr>\n    <tr>\n      <th>1</th>\n      <td>Breaking the habit</td>\n      <td>Cool</td>\n      <td>1</td>\n      <td>0</td>\n      <td>0</td>\n    </tr>\n    <tr>\n      <th>2</th>\n      <td>Radioactive</td>\n      <td>Neutral</td>\n      <td>0</td>\n      <td>1</td>\n      <td>0</td>\n    </tr>\n    <tr>\n      <th>3</th>\n      <td>Umbrella</td>\n      <td>Not my style</td>\n      <td>0</td>\n      <td>0</td>\n      <td>1</td>\n    </tr>\n    <tr>\n      <th>4</th>\n      <td>Maniacs</td>\n      <td>Cool</td>\n      <td>1</td>\n      <td>0</td>\n      <td>0</td>\n    </tr>\n  </tbody>\n</table>\n</div>"
     },
     "execution_count": 15,
     "metadata": {},
     "output_type": "execute_result"
    }
   ],
   "source": [
    "new_data_frame_with_dummies"
   ]
  },
  {
   "cell_type": "markdown",
   "metadata": {},
   "source": [
    "### 2.2.2 Cas réel avec les styles de musiques"
   ]
  },
  {
   "cell_type": "markdown",
   "metadata": {},
   "source": [
    "De retour dans le monde musical, il est évident que la colonne à traiter est \"**style**\"."
   ]
  },
  {
   "cell_type": "code",
   "execution_count": 16,
   "metadata": {},
   "outputs": [],
   "source": [
    "style_dummies = pd.get_dummies(sp['style'], drop_first=True, prefix='style_')"
   ]
  },
  {
   "cell_type": "code",
   "execution_count": 17,
   "metadata": {},
   "outputs": [],
   "source": [
    "sp = pd.concat([sp, style_dummies], axis = 1)"
   ]
  },
  {
   "cell_type": "code",
   "execution_count": 18,
   "metadata": {},
   "outputs": [
    {
     "data": {
      "text/plain": "                 title            artist   release  bpm  energy  danceability  \\\n0    Don't Let Me Down  The Chainsmokers   5/02/16  160      87            53   \n1  In the Name of Love     Martin Garrix  29/07/16  134      52            50   \n2              FRIENDS        Marshmello   9/02/18   95      88            63   \n3           The Middle              Zedd  23/01/18  107      65            75   \n4     Never Forget You      Zara Larsson  10/09/15  146      73            58   \n\n   loud  valence length  acoustic  ...  style seconds  style__DECENNIES  \\\n0    -5       42  03:28        16  ...    POP     208                 0   \n1    -6       17  03:16        11  ...    POP     196                 0   \n2    -2       53  03:23        21  ...    POP     203                 0   \n3    -3       43  03:05        21  ...    POP     185                 0   \n4    -6       28  03:33         0  ...    POP     213                 0   \n\n   style__DEEP FOCUS  style__FUNK  style__JAZZ  style__POP  style__RAP  \\\n0                  0            0            0           1           0   \n1                  0            0            0           1           0   \n2                  0            0            0           1           0   \n3                  0            0            0           1           0   \n4                  0            0            0           1           0   \n\n   style__ROCK  style__VIRAL  \n0            0             0  \n1            0             0  \n2            0             0  \n3            0             0  \n4            0             0  \n\n[5 rows x 21 columns]",
      "text/html": "<div>\n<style scoped>\n    .dataframe tbody tr th:only-of-type {\n        vertical-align: middle;\n    }\n\n    .dataframe tbody tr th {\n        vertical-align: top;\n    }\n\n    .dataframe thead th {\n        text-align: right;\n    }\n</style>\n<table border=\"1\" class=\"dataframe\">\n  <thead>\n    <tr style=\"text-align: right;\">\n      <th></th>\n      <th>title</th>\n      <th>artist</th>\n      <th>release</th>\n      <th>bpm</th>\n      <th>energy</th>\n      <th>danceability</th>\n      <th>loud</th>\n      <th>valence</th>\n      <th>length</th>\n      <th>acoustic</th>\n      <th>...</th>\n      <th>style</th>\n      <th>seconds</th>\n      <th>style__DECENNIES</th>\n      <th>style__DEEP FOCUS</th>\n      <th>style__FUNK</th>\n      <th>style__JAZZ</th>\n      <th>style__POP</th>\n      <th>style__RAP</th>\n      <th>style__ROCK</th>\n      <th>style__VIRAL</th>\n    </tr>\n  </thead>\n  <tbody>\n    <tr>\n      <th>0</th>\n      <td>Don't Let Me Down</td>\n      <td>The Chainsmokers</td>\n      <td>5/02/16</td>\n      <td>160</td>\n      <td>87</td>\n      <td>53</td>\n      <td>-5</td>\n      <td>42</td>\n      <td>03:28</td>\n      <td>16</td>\n      <td>...</td>\n      <td>POP</td>\n      <td>208</td>\n      <td>0</td>\n      <td>0</td>\n      <td>0</td>\n      <td>0</td>\n      <td>1</td>\n      <td>0</td>\n      <td>0</td>\n      <td>0</td>\n    </tr>\n    <tr>\n      <th>1</th>\n      <td>In the Name of Love</td>\n      <td>Martin Garrix</td>\n      <td>29/07/16</td>\n      <td>134</td>\n      <td>52</td>\n      <td>50</td>\n      <td>-6</td>\n      <td>17</td>\n      <td>03:16</td>\n      <td>11</td>\n      <td>...</td>\n      <td>POP</td>\n      <td>196</td>\n      <td>0</td>\n      <td>0</td>\n      <td>0</td>\n      <td>0</td>\n      <td>1</td>\n      <td>0</td>\n      <td>0</td>\n      <td>0</td>\n    </tr>\n    <tr>\n      <th>2</th>\n      <td>FRIENDS</td>\n      <td>Marshmello</td>\n      <td>9/02/18</td>\n      <td>95</td>\n      <td>88</td>\n      <td>63</td>\n      <td>-2</td>\n      <td>53</td>\n      <td>03:23</td>\n      <td>21</td>\n      <td>...</td>\n      <td>POP</td>\n      <td>203</td>\n      <td>0</td>\n      <td>0</td>\n      <td>0</td>\n      <td>0</td>\n      <td>1</td>\n      <td>0</td>\n      <td>0</td>\n      <td>0</td>\n    </tr>\n    <tr>\n      <th>3</th>\n      <td>The Middle</td>\n      <td>Zedd</td>\n      <td>23/01/18</td>\n      <td>107</td>\n      <td>65</td>\n      <td>75</td>\n      <td>-3</td>\n      <td>43</td>\n      <td>03:05</td>\n      <td>21</td>\n      <td>...</td>\n      <td>POP</td>\n      <td>185</td>\n      <td>0</td>\n      <td>0</td>\n      <td>0</td>\n      <td>0</td>\n      <td>1</td>\n      <td>0</td>\n      <td>0</td>\n      <td>0</td>\n    </tr>\n    <tr>\n      <th>4</th>\n      <td>Never Forget You</td>\n      <td>Zara Larsson</td>\n      <td>10/09/15</td>\n      <td>146</td>\n      <td>73</td>\n      <td>58</td>\n      <td>-6</td>\n      <td>28</td>\n      <td>03:33</td>\n      <td>0</td>\n      <td>...</td>\n      <td>POP</td>\n      <td>213</td>\n      <td>0</td>\n      <td>0</td>\n      <td>0</td>\n      <td>0</td>\n      <td>1</td>\n      <td>0</td>\n      <td>0</td>\n      <td>0</td>\n    </tr>\n  </tbody>\n</table>\n<p>5 rows × 21 columns</p>\n</div>"
     },
     "execution_count": 18,
     "metadata": {},
     "output_type": "execute_result"
    }
   ],
   "source": [
    "sp.head()"
   ]
  },
  {
   "cell_type": "markdown",
   "metadata": {},
   "source": [
    "# 3. Mesurer la corrélation des données"
   ]
  },
  {
   "cell_type": "markdown",
   "metadata": {},
   "source": [
    "***"
   ]
  },
  {
   "cell_type": "markdown",
   "metadata": {},
   "source": [
    "Créons une nouvelle variable qui va contenir toutes nos corrélations :"
   ]
  },
  {
   "cell_type": "code",
   "execution_count": 19,
   "metadata": {},
   "outputs": [
    {
     "data": {
      "text/plain": "                        bpm    energy  danceability      loud   valence  \\\nbpm                1.000000  0.215457     -0.044197  0.221465  0.059033   \nenergy             0.215457  1.000000      0.290425  0.859697  0.566727   \ndanceability      -0.044197  0.290425      1.000000  0.410181  0.546807   \nloud               0.221465  0.859697      0.410181  1.000000  0.537600   \nvalence            0.059033  0.566727      0.546807  0.537600  1.000000   \nacoustic          -0.205205 -0.784217     -0.312721 -0.775279 -0.415209   \npopularity         0.039030 -0.078099      0.187963  0.077684 -0.100679   \nseconds            0.009886 -0.133740     -0.121361 -0.183956 -0.068028   \nstyle__DECENNIES   0.156748  0.297820     -0.006835  0.216724  0.116092   \nstyle__DEEP FOCUS -0.111602 -0.541634     -0.452482 -0.609291 -0.557281   \nstyle__FUNK       -0.077219  0.264846      0.319175  0.154595  0.440402   \nstyle__JAZZ       -0.113506 -0.502930     -0.168708 -0.492701 -0.143832   \nstyle__POP        -0.087929  0.048756      0.209671  0.182254  0.022315   \nstyle__RAP         0.144051 -0.018972      0.352435  0.093626  0.004281   \nstyle__ROCK        0.050132  0.249387     -0.257163  0.227653  0.005520   \nstyle__VIRAL       0.068870 -0.003539      0.122521  0.066482 -0.028591   \n\n                   acoustic  popularity   seconds  style__DECENNIES  \\\nbpm               -0.205205    0.039030  0.009886          0.156748   \nenergy            -0.784217   -0.078099 -0.133740          0.297820   \ndanceability      -0.312721    0.187963 -0.121361         -0.006835   \nloud              -0.775279    0.077684 -0.183956          0.216724   \nvalence           -0.415209   -0.100679 -0.068028          0.116092   \nacoustic           1.000000    0.006883  0.191318         -0.242938   \npopularity         0.006883    1.000000 -0.138843          0.079895   \nseconds            0.191318   -0.138843  1.000000         -0.000158   \nstyle__DECENNIES  -0.242938    0.079895 -0.000158          1.000000   \nstyle__DEEP FOCUS  0.477324    0.008627 -0.046261         -0.166366   \nstyle__FUNK       -0.168437   -0.385040  0.072755         -0.175397   \nstyle__JAZZ        0.543506   -0.146916  0.438045         -0.151122   \nstyle__POP        -0.117705    0.227955 -0.112892         -0.157081   \nstyle__RAP        -0.098137    0.340449 -0.129727         -0.125648   \nstyle__ROCK       -0.274452   -0.293726 -0.117019         -0.201385   \nstyle__VIRAL       0.053436    0.236382  0.021830         -0.087110   \n\n                   style__DEEP FOCUS  style__FUNK  style__JAZZ  style__POP  \\\nbpm                        -0.111602    -0.077219    -0.113506   -0.087929   \nenergy                     -0.541634     0.264846    -0.502930    0.048756   \ndanceability               -0.452482     0.319175    -0.168708    0.209671   \nloud                       -0.609291     0.154595    -0.492701    0.182254   \nvalence                    -0.557281     0.440402    -0.143832    0.022315   \nacoustic                    0.477324    -0.168437     0.543506   -0.117705   \npopularity                  0.008627    -0.385040    -0.146916    0.227955   \nseconds                    -0.046261     0.072755     0.438045   -0.112892   \nstyle__DECENNIES           -0.166366    -0.175397    -0.151122   -0.157081   \nstyle__DEEP FOCUS           1.000000    -0.148819    -0.128222   -0.133278   \nstyle__FUNK                -0.148819     1.000000    -0.135182   -0.140512   \nstyle__JAZZ                -0.128222    -0.135182     1.000000   -0.121065   \nstyle__POP                 -0.133278    -0.140512    -0.121065    1.000000   \nstyle__RAP                 -0.106608    -0.112395    -0.096839   -0.100658   \nstyle__ROCK                -0.170868    -0.180143    -0.155211   -0.161331   \nstyle__VIRAL               -0.073910    -0.077922    -0.067138   -0.069785   \n\n                   style__RAP  style__ROCK  style__VIRAL  \nbpm                  0.144051     0.050132      0.068870  \nenergy              -0.018972     0.249387     -0.003539  \ndanceability         0.352435    -0.257163      0.122521  \nloud                 0.093626     0.227653      0.066482  \nvalence              0.004281     0.005520     -0.028591  \nacoustic            -0.098137    -0.274452      0.053436  \npopularity           0.340449    -0.293726      0.236382  \nseconds             -0.129727    -0.117019      0.021830  \nstyle__DECENNIES    -0.125648    -0.201385     -0.087110  \nstyle__DEEP FOCUS   -0.106608    -0.170868     -0.073910  \nstyle__FUNK         -0.112395    -0.180143     -0.077922  \nstyle__JAZZ         -0.096839    -0.155211     -0.067138  \nstyle__POP          -0.100658    -0.161331     -0.069785  \nstyle__RAP           1.000000    -0.129048     -0.055820  \nstyle__ROCK         -0.129048     1.000000     -0.089467  \nstyle__VIRAL        -0.055820    -0.089467      1.000000  ",
      "text/html": "<div>\n<style scoped>\n    .dataframe tbody tr th:only-of-type {\n        vertical-align: middle;\n    }\n\n    .dataframe tbody tr th {\n        vertical-align: top;\n    }\n\n    .dataframe thead th {\n        text-align: right;\n    }\n</style>\n<table border=\"1\" class=\"dataframe\">\n  <thead>\n    <tr style=\"text-align: right;\">\n      <th></th>\n      <th>bpm</th>\n      <th>energy</th>\n      <th>danceability</th>\n      <th>loud</th>\n      <th>valence</th>\n      <th>acoustic</th>\n      <th>popularity</th>\n      <th>seconds</th>\n      <th>style__DECENNIES</th>\n      <th>style__DEEP FOCUS</th>\n      <th>style__FUNK</th>\n      <th>style__JAZZ</th>\n      <th>style__POP</th>\n      <th>style__RAP</th>\n      <th>style__ROCK</th>\n      <th>style__VIRAL</th>\n    </tr>\n  </thead>\n  <tbody>\n    <tr>\n      <th>bpm</th>\n      <td>1.000000</td>\n      <td>0.215457</td>\n      <td>-0.044197</td>\n      <td>0.221465</td>\n      <td>0.059033</td>\n      <td>-0.205205</td>\n      <td>0.039030</td>\n      <td>0.009886</td>\n      <td>0.156748</td>\n      <td>-0.111602</td>\n      <td>-0.077219</td>\n      <td>-0.113506</td>\n      <td>-0.087929</td>\n      <td>0.144051</td>\n      <td>0.050132</td>\n      <td>0.068870</td>\n    </tr>\n    <tr>\n      <th>energy</th>\n      <td>0.215457</td>\n      <td>1.000000</td>\n      <td>0.290425</td>\n      <td>0.859697</td>\n      <td>0.566727</td>\n      <td>-0.784217</td>\n      <td>-0.078099</td>\n      <td>-0.133740</td>\n      <td>0.297820</td>\n      <td>-0.541634</td>\n      <td>0.264846</td>\n      <td>-0.502930</td>\n      <td>0.048756</td>\n      <td>-0.018972</td>\n      <td>0.249387</td>\n      <td>-0.003539</td>\n    </tr>\n    <tr>\n      <th>danceability</th>\n      <td>-0.044197</td>\n      <td>0.290425</td>\n      <td>1.000000</td>\n      <td>0.410181</td>\n      <td>0.546807</td>\n      <td>-0.312721</td>\n      <td>0.187963</td>\n      <td>-0.121361</td>\n      <td>-0.006835</td>\n      <td>-0.452482</td>\n      <td>0.319175</td>\n      <td>-0.168708</td>\n      <td>0.209671</td>\n      <td>0.352435</td>\n      <td>-0.257163</td>\n      <td>0.122521</td>\n    </tr>\n    <tr>\n      <th>loud</th>\n      <td>0.221465</td>\n      <td>0.859697</td>\n      <td>0.410181</td>\n      <td>1.000000</td>\n      <td>0.537600</td>\n      <td>-0.775279</td>\n      <td>0.077684</td>\n      <td>-0.183956</td>\n      <td>0.216724</td>\n      <td>-0.609291</td>\n      <td>0.154595</td>\n      <td>-0.492701</td>\n      <td>0.182254</td>\n      <td>0.093626</td>\n      <td>0.227653</td>\n      <td>0.066482</td>\n    </tr>\n    <tr>\n      <th>valence</th>\n      <td>0.059033</td>\n      <td>0.566727</td>\n      <td>0.546807</td>\n      <td>0.537600</td>\n      <td>1.000000</td>\n      <td>-0.415209</td>\n      <td>-0.100679</td>\n      <td>-0.068028</td>\n      <td>0.116092</td>\n      <td>-0.557281</td>\n      <td>0.440402</td>\n      <td>-0.143832</td>\n      <td>0.022315</td>\n      <td>0.004281</td>\n      <td>0.005520</td>\n      <td>-0.028591</td>\n    </tr>\n    <tr>\n      <th>acoustic</th>\n      <td>-0.205205</td>\n      <td>-0.784217</td>\n      <td>-0.312721</td>\n      <td>-0.775279</td>\n      <td>-0.415209</td>\n      <td>1.000000</td>\n      <td>0.006883</td>\n      <td>0.191318</td>\n      <td>-0.242938</td>\n      <td>0.477324</td>\n      <td>-0.168437</td>\n      <td>0.543506</td>\n      <td>-0.117705</td>\n      <td>-0.098137</td>\n      <td>-0.274452</td>\n      <td>0.053436</td>\n    </tr>\n    <tr>\n      <th>popularity</th>\n      <td>0.039030</td>\n      <td>-0.078099</td>\n      <td>0.187963</td>\n      <td>0.077684</td>\n      <td>-0.100679</td>\n      <td>0.006883</td>\n      <td>1.000000</td>\n      <td>-0.138843</td>\n      <td>0.079895</td>\n      <td>0.008627</td>\n      <td>-0.385040</td>\n      <td>-0.146916</td>\n      <td>0.227955</td>\n      <td>0.340449</td>\n      <td>-0.293726</td>\n      <td>0.236382</td>\n    </tr>\n    <tr>\n      <th>seconds</th>\n      <td>0.009886</td>\n      <td>-0.133740</td>\n      <td>-0.121361</td>\n      <td>-0.183956</td>\n      <td>-0.068028</td>\n      <td>0.191318</td>\n      <td>-0.138843</td>\n      <td>1.000000</td>\n      <td>-0.000158</td>\n      <td>-0.046261</td>\n      <td>0.072755</td>\n      <td>0.438045</td>\n      <td>-0.112892</td>\n      <td>-0.129727</td>\n      <td>-0.117019</td>\n      <td>0.021830</td>\n    </tr>\n    <tr>\n      <th>style__DECENNIES</th>\n      <td>0.156748</td>\n      <td>0.297820</td>\n      <td>-0.006835</td>\n      <td>0.216724</td>\n      <td>0.116092</td>\n      <td>-0.242938</td>\n      <td>0.079895</td>\n      <td>-0.000158</td>\n      <td>1.000000</td>\n      <td>-0.166366</td>\n      <td>-0.175397</td>\n      <td>-0.151122</td>\n      <td>-0.157081</td>\n      <td>-0.125648</td>\n      <td>-0.201385</td>\n      <td>-0.087110</td>\n    </tr>\n    <tr>\n      <th>style__DEEP FOCUS</th>\n      <td>-0.111602</td>\n      <td>-0.541634</td>\n      <td>-0.452482</td>\n      <td>-0.609291</td>\n      <td>-0.557281</td>\n      <td>0.477324</td>\n      <td>0.008627</td>\n      <td>-0.046261</td>\n      <td>-0.166366</td>\n      <td>1.000000</td>\n      <td>-0.148819</td>\n      <td>-0.128222</td>\n      <td>-0.133278</td>\n      <td>-0.106608</td>\n      <td>-0.170868</td>\n      <td>-0.073910</td>\n    </tr>\n    <tr>\n      <th>style__FUNK</th>\n      <td>-0.077219</td>\n      <td>0.264846</td>\n      <td>0.319175</td>\n      <td>0.154595</td>\n      <td>0.440402</td>\n      <td>-0.168437</td>\n      <td>-0.385040</td>\n      <td>0.072755</td>\n      <td>-0.175397</td>\n      <td>-0.148819</td>\n      <td>1.000000</td>\n      <td>-0.135182</td>\n      <td>-0.140512</td>\n      <td>-0.112395</td>\n      <td>-0.180143</td>\n      <td>-0.077922</td>\n    </tr>\n    <tr>\n      <th>style__JAZZ</th>\n      <td>-0.113506</td>\n      <td>-0.502930</td>\n      <td>-0.168708</td>\n      <td>-0.492701</td>\n      <td>-0.143832</td>\n      <td>0.543506</td>\n      <td>-0.146916</td>\n      <td>0.438045</td>\n      <td>-0.151122</td>\n      <td>-0.128222</td>\n      <td>-0.135182</td>\n      <td>1.000000</td>\n      <td>-0.121065</td>\n      <td>-0.096839</td>\n      <td>-0.155211</td>\n      <td>-0.067138</td>\n    </tr>\n    <tr>\n      <th>style__POP</th>\n      <td>-0.087929</td>\n      <td>0.048756</td>\n      <td>0.209671</td>\n      <td>0.182254</td>\n      <td>0.022315</td>\n      <td>-0.117705</td>\n      <td>0.227955</td>\n      <td>-0.112892</td>\n      <td>-0.157081</td>\n      <td>-0.133278</td>\n      <td>-0.140512</td>\n      <td>-0.121065</td>\n      <td>1.000000</td>\n      <td>-0.100658</td>\n      <td>-0.161331</td>\n      <td>-0.069785</td>\n    </tr>\n    <tr>\n      <th>style__RAP</th>\n      <td>0.144051</td>\n      <td>-0.018972</td>\n      <td>0.352435</td>\n      <td>0.093626</td>\n      <td>0.004281</td>\n      <td>-0.098137</td>\n      <td>0.340449</td>\n      <td>-0.129727</td>\n      <td>-0.125648</td>\n      <td>-0.106608</td>\n      <td>-0.112395</td>\n      <td>-0.096839</td>\n      <td>-0.100658</td>\n      <td>1.000000</td>\n      <td>-0.129048</td>\n      <td>-0.055820</td>\n    </tr>\n    <tr>\n      <th>style__ROCK</th>\n      <td>0.050132</td>\n      <td>0.249387</td>\n      <td>-0.257163</td>\n      <td>0.227653</td>\n      <td>0.005520</td>\n      <td>-0.274452</td>\n      <td>-0.293726</td>\n      <td>-0.117019</td>\n      <td>-0.201385</td>\n      <td>-0.170868</td>\n      <td>-0.180143</td>\n      <td>-0.155211</td>\n      <td>-0.161331</td>\n      <td>-0.129048</td>\n      <td>1.000000</td>\n      <td>-0.089467</td>\n    </tr>\n    <tr>\n      <th>style__VIRAL</th>\n      <td>0.068870</td>\n      <td>-0.003539</td>\n      <td>0.122521</td>\n      <td>0.066482</td>\n      <td>-0.028591</td>\n      <td>0.053436</td>\n      <td>0.236382</td>\n      <td>0.021830</td>\n      <td>-0.087110</td>\n      <td>-0.073910</td>\n      <td>-0.077922</td>\n      <td>-0.067138</td>\n      <td>-0.069785</td>\n      <td>-0.055820</td>\n      <td>-0.089467</td>\n      <td>1.000000</td>\n    </tr>\n  </tbody>\n</table>\n</div>"
     },
     "execution_count": 19,
     "metadata": {},
     "output_type": "execute_result"
    }
   ],
   "source": [
    "corr = sp.corr()\n",
    "corr"
   ]
  },
  {
   "cell_type": "markdown",
   "metadata": {},
   "source": [
    "Le résultat n'est pas très visuel. Faisons appel à seaborn :"
   ]
  },
  {
   "cell_type": "code",
   "execution_count": 20,
   "metadata": {},
   "outputs": [
    {
     "data": {
      "text/plain": "<AxesSubplot:>"
     },
     "execution_count": 20,
     "metadata": {},
     "output_type": "execute_result"
    },
    {
     "data": {
      "text/plain": "<Figure size 432x288 with 2 Axes>",
      "image/png": "[encoded data removed]"
     },
     "metadata": {
      "needs_background": "light"
     },
     "output_type": "display_data"
    }
   ],
   "source": [
    "sns.heatmap(corr)"
   ]
  },
  {
   "cell_type": "code",
   "execution_count": 21,
   "metadata": {},
   "outputs": [
    {
     "data": {
      "text/plain": "style__DEEP FOCUS   -0.452482\nacoustic            -0.312721\nstyle__ROCK         -0.257163\nstyle__JAZZ         -0.168708\nseconds             -0.121361\nbpm                 -0.044197\nstyle__DECENNIES    -0.006835\nstyle__VIRAL         0.122521\npopularity           0.187963\nstyle__POP           0.209671\nenergy               0.290425\nstyle__FUNK          0.319175\nstyle__RAP           0.352435\nloud                 0.410181\nvalence              0.546807\ndanceability         1.000000\nName: danceability, dtype: float64"
     },
     "execution_count": 21,
     "metadata": {},
     "output_type": "execute_result"
    }
   ],
   "source": [
    "corr['danceability'].sort_values()"
   ]
  },
  {
   "cell_type": "markdown",
   "metadata": {},
   "source": [
    "# 4. Préparation des features et de target"
   ]
  },
  {
   "cell_type": "markdown",
   "metadata": {},
   "source": [
    "***"
   ]
  },
  {
   "cell_type": "code",
   "execution_count": 22,
   "metadata": {},
   "outputs": [],
   "source": [
    "# nous mélangeons les indices aléatoirement\n",
    "indices = np.random.permutation(sp.index)\n",
    "length_data = sp.shape[0]\n",
    "# on sélectionne 80% des indices\n",
    "limit_train = int(length_data * 0.80)\n",
    "# on sélectionne 80% des données\n",
    "train = sp.iloc[:limit_train]\n",
    "# on sélectionne les 20% restant\n",
    "test = sp.iloc[limit_train:]"
   ]
  },
  {
   "cell_type": "code",
   "execution_count": 23,
   "metadata": {},
   "outputs": [
    {
     "data": {
      "text/plain": "['style__DECENNIES',\n 'style__DEEP FOCUS',\n 'style__FUNK',\n 'style__JAZZ',\n 'style__POP',\n 'style__RAP',\n 'style__ROCK',\n 'style__VIRAL']"
     },
     "execution_count": 23,
     "metadata": {},
     "output_type": "execute_result"
    }
   ],
   "source": [
    "# on sélectionne le nom des colonnes qui commencent par notre préfixe 'style_'\n",
    "styles = [name for name in sp.columns if name.startswith('style_')]\n",
    "styles"
   ]
  },
  {
   "cell_type": "code",
   "execution_count": 24,
   "metadata": {},
   "outputs": [],
   "source": [
    "all_features = ['bpm', 'acoustic', 'energy', 'loud', 'valence', 'popularity', 'seconds'] + styles\n",
    "# on crée nos données initiales : le nom de y ainsi que ses données\n",
    "name_target = 'danceability'\n",
    "target = train[name_target]"
   ]
  },
  {
   "cell_type": "markdown",
   "metadata": {},
   "source": [
    "# 5. Préparation de nos fonctions utilitaires"
   ]
  },
  {
   "cell_type": "markdown",
   "metadata": {},
   "source": [
    "***"
   ]
  },
  {
   "cell_type": "markdown",
   "metadata": {},
   "source": [
    "Dans le cas où vous auriez oublié la signification des formules, n'hésitez pas à consulter les diapositives du cours."
   ]
  },
  {
   "cell_type": "code",
   "execution_count": 25,
   "metadata": {},
   "outputs": [],
   "source": [
    "# voir slides concernant la régression linéaire\n",
    "    \n",
    "def compute_residuals(yactuals, ypred):\n",
    "    return (yactuals - ypred)"
   ]
  },
  {
   "cell_type": "code",
   "execution_count": 26,
   "metadata": {},
   "outputs": [],
   "source": [
    "# voir slides concernant la régression linéaire\n",
    "\n",
    "def r_squared(yactuals, ypred):\n",
    "    sst = ((yactuals - yactuals.mean()) ** 2).sum()\n",
    "    sse = ((yactuals - ypred) ** 2).sum()\n",
    "    \n",
    "    return 1 - (sse / sst)"
   ]
  },
  {
   "cell_type": "code",
   "execution_count": 27,
   "metadata": {},
   "outputs": [],
   "source": [
    "# voir slides concernant la régression linéaire\n",
    "\n",
    "def r_squared_adjusted(yactuals, ypred, n_features):\n",
    "    r_s = r_squared(yactuals, ypred)\n",
    "    n = yactuals.shape[0]\n",
    "    return 1 - (1 - r_s) * ((n - 1) / (n - n_features - 1))"
   ]
  },
  {
   "cell_type": "markdown",
   "metadata": {},
   "source": [
    "# 6. À la recherche des features optimales"
   ]
  },
  {
   "cell_type": "markdown",
   "metadata": {},
   "source": [
    "***"
   ]
  },
  {
   "cell_type": "markdown",
   "metadata": {},
   "source": [
    "Au lieu de chercher manuellement qu'elles sont les meilleurs features, nous pouvons utiliser la technique du RFECV. Cela signifie :\n",
    "- **R**ecursive\n",
    "- **F**eature\n",
    "- **E**limination\n",
    "- **C**ross\n",
    "- **V**alidation"
   ]
  },
  {
   "cell_type": "markdown",
   "metadata": {},
   "source": [
    "En résumé, cette manière de procéder teste toute une série de modèles pour *in fine* supprimer les features les plus inutiles."
   ]
  },
  {
   "cell_type": "markdown",
   "metadata": {},
   "source": [
    "## 6.1 Sa création"
   ]
  },
  {
   "cell_type": "markdown",
   "metadata": {},
   "source": [
    "Quelques paramètres lui seront nécessaires :\n",
    "1. **estimator** : un modèle vierge\n",
    "2. **step** : le nombre de paramètres qu'il supprimera à chaque tour de boucle\n",
    "3. **cv** : une instance de KFold\n",
    "4. **scoring** : la métrique qu'il va générer à chaque tour de boucle"
   ]
  },
  {
   "cell_type": "code",
   "execution_count": 28,
   "metadata": {},
   "outputs": [],
   "source": [
    "kfold = KFold(n_splits=5, shuffle=True, random_state=1)\n",
    "rfecv = RFECV(LinearRegression(), step=1, cv=kfold, scoring='neg_mean_squared_error')"
   ]
  },
  {
   "cell_type": "markdown",
   "metadata": {},
   "source": [
    "## 6.2 Son entrainement"
   ]
  },
  {
   "cell_type": "markdown",
   "metadata": {},
   "source": [
    "Tout comme les modèles vus précédemment, on les entraine en faisant appel à leur méthode *fit*."
   ]
  },
  {
   "cell_type": "markdown",
   "metadata": {},
   "source": [
    "Avant cela, créons des variables qui vont contenir nos variables explicatives (X) et notre variable à expliquer (y)."
   ]
  },
  {
   "cell_type": "code",
   "execution_count": 29,
   "metadata": {},
   "outputs": [],
   "source": [
    "X = sp[all_features]\n",
    "y = sp[name_target]"
   ]
  },
  {
   "cell_type": "code",
   "execution_count": 30,
   "metadata": {},
   "outputs": [
    {
     "data": {
      "text/plain": "RFECV(cv=KFold(n_splits=5, random_state=1, shuffle=True),\n      estimator=LinearRegression(), scoring='neg_mean_squared_error')"
     },
     "execution_count": 30,
     "metadata": {},
     "output_type": "execute_result"
    }
   ],
   "source": [
    "rfecv.fit(X, y)"
   ]
  },
  {
   "cell_type": "markdown",
   "metadata": {},
   "source": [
    "## 6.3 Son attribut *support_*"
   ]
  },
  {
   "cell_type": "markdown",
   "metadata": {},
   "source": [
    "Juste après avoir exécuté la méthode *fit*, son attribut *support_* a été initialisé. Celui-ci contient un tableau de booléens. Ceux-ci indiquent quels sont les features à garder ou non."
   ]
  },
  {
   "cell_type": "code",
   "execution_count": 31,
   "metadata": {},
   "outputs": [
    {
     "data": {
      "text/plain": "array([ True,  True,  True,  True,  True, False, False,  True,  True,\n        True,  True,  True,  True,  True,  True])"
     },
     "execution_count": 31,
     "metadata": {},
     "output_type": "execute_result"
    }
   ],
   "source": [
    "rfecv.support_"
   ]
  },
  {
   "cell_type": "markdown",
   "metadata": {},
   "source": [
    "En soi, cette variable n'est pas très parlante. Mettons côte à côte nos features et l'attribut *support_*."
   ]
  },
  {
   "cell_type": "code",
   "execution_count": 32,
   "metadata": {
    "scrolled": false
   },
   "outputs": [
    {
     "data": {
      "text/plain": "                    0      1\n0                 bpm   True\n1            acoustic   True\n2              energy   True\n3                loud   True\n4             valence   True\n5          popularity  False\n6             seconds  False\n7    style__DECENNIES   True\n8   style__DEEP FOCUS   True\n9         style__FUNK   True\n10        style__JAZZ   True\n11         style__POP   True\n12         style__RAP   True\n13        style__ROCK   True\n14       style__VIRAL   True",
      "text/html": "<div>\n<style scoped>\n    .dataframe tbody tr th:only-of-type {\n        vertical-align: middle;\n    }\n\n    .dataframe tbody tr th {\n        vertical-align: top;\n    }\n\n    .dataframe thead th {\n        text-align: right;\n    }\n</style>\n<table border=\"1\" class=\"dataframe\">\n  <thead>\n    <tr style=\"text-align: right;\">\n      <th></th>\n      <th>0</th>\n      <th>1</th>\n    </tr>\n  </thead>\n  <tbody>\n    <tr>\n      <th>0</th>\n      <td>bpm</td>\n      <td>True</td>\n    </tr>\n    <tr>\n      <th>1</th>\n      <td>acoustic</td>\n      <td>True</td>\n    </tr>\n    <tr>\n      <th>2</th>\n      <td>energy</td>\n      <td>True</td>\n    </tr>\n    <tr>\n      <th>3</th>\n      <td>loud</td>\n      <td>True</td>\n    </tr>\n    <tr>\n      <th>4</th>\n      <td>valence</td>\n      <td>True</td>\n    </tr>\n    <tr>\n      <th>5</th>\n      <td>popularity</td>\n      <td>False</td>\n    </tr>\n    <tr>\n      <th>6</th>\n      <td>seconds</td>\n      <td>False</td>\n    </tr>\n    <tr>\n      <th>7</th>\n      <td>style__DECENNIES</td>\n      <td>True</td>\n    </tr>\n    <tr>\n      <th>8</th>\n      <td>style__DEEP FOCUS</td>\n      <td>True</td>\n    </tr>\n    <tr>\n      <th>9</th>\n      <td>style__FUNK</td>\n      <td>True</td>\n    </tr>\n    <tr>\n      <th>10</th>\n      <td>style__JAZZ</td>\n      <td>True</td>\n    </tr>\n    <tr>\n      <th>11</th>\n      <td>style__POP</td>\n      <td>True</td>\n    </tr>\n    <tr>\n      <th>12</th>\n      <td>style__RAP</td>\n      <td>True</td>\n    </tr>\n    <tr>\n      <th>13</th>\n      <td>style__ROCK</td>\n      <td>True</td>\n    </tr>\n    <tr>\n      <th>14</th>\n      <td>style__VIRAL</td>\n      <td>True</td>\n    </tr>\n  </tbody>\n</table>\n</div>"
     },
     "execution_count": 32,
     "metadata": {},
     "output_type": "execute_result"
    }
   ],
   "source": [
    "features_and_support = pd.concat([pd.Series(all_features), pd.Series(rfecv.support_)], axis=1)\n",
    "features_and_support"
   ]
  },
  {
   "cell_type": "markdown",
   "metadata": {},
   "source": [
    "Grâce à cette petite manipulation, nous remarquons que : *popularity* et *seconds* ne sont pas nécessaires à notre modèle."
   ]
  },
  {
   "cell_type": "markdown",
   "metadata": {},
   "source": [
    "Il est essentiel de stocker les features importantes dans une variable :"
   ]
  },
  {
   "cell_type": "code",
   "execution_count": 33,
   "metadata": {},
   "outputs": [
    {
     "data": {
      "text/plain": "0                   bpm\n1              acoustic\n2                energy\n3                  loud\n4               valence\n7      style__DECENNIES\n8     style__DEEP FOCUS\n9           style__FUNK\n10          style__JAZZ\n11           style__POP\n12           style__RAP\n13          style__ROCK\n14         style__VIRAL\nName: 0, dtype: object"
     },
     "execution_count": 33,
     "metadata": {},
     "output_type": "execute_result"
    }
   ],
   "source": [
    "important_features = features_and_support[features_and_support.iloc[:, 1]].iloc[:, 0]\n",
    "important_features"
   ]
  },
  {
   "cell_type": "markdown",
   "metadata": {},
   "source": [
    "# 7. Création de notre régression linéaire"
   ]
  },
  {
   "cell_type": "code",
   "execution_count": 34,
   "metadata": {
    "scrolled": false
   },
   "outputs": [
    {
     "name": "stdout",
     "output_type": "stream",
     "text": [
      "R squared (sklearn): 0.3397183396656823\n",
      "R squared (manual): 0.3397183396656823\n",
      "Adjusted R squared: 0.2687789877289374\n"
     ]
    }
   ],
   "source": [
    "# on crée notre modèle\n",
    "lr = LinearRegression()\n",
    "# on l'entraîne\n",
    "lr.fit(train[important_features], train[name_target])\n",
    "# on prédit les valeurs\n",
    "yhat = lr.predict(test[important_features])\n",
    "# on réalise quelques mesures :\n",
    "print(\"R squared (sklearn):\", r2_score(test[name_target], yhat))\n",
    "print(\"R squared (manual):\", r_squared(test[name_target], yhat))\n",
    "print(\"Adjusted R squared:\", r_squared_adjusted(test[name_target], yhat, important_features.shape[0]))"
   ]
  },
  {
   "cell_type": "markdown",
   "metadata": {},
   "source": [
    "Nous pouvons également consulter notre RMSE (Root Mean Squared Error) :"
   ]
  },
  {
   "cell_type": "code",
   "execution_count": 35,
   "metadata": {},
   "outputs": [
    {
     "name": "stdout",
     "output_type": "stream",
     "text": [
      "10.979473072289581\n"
     ]
    }
   ],
   "source": [
    "mses = cross_val_score(LinearRegression(), \n",
    "                        sp[important_features], sp[name_target], \n",
    "                        cv=kfold, scoring='neg_mean_squared_error')\n",
    "mean_mse = -np.mean(mses)\n",
    "rmse = mean_mse ** 0.5\n",
    "print(rmse)"
   ]
  }
 ],
 "metadata": {
  "kernelspec": {
   "name": "pycharm-1b52d5e2",
   "language": "python",
   "display_name": "PyCharm (Mathematique)"
  },
  "language_info": {
   "codemirror_mode": {
    "name": "ipython",
    "version": 3
   },
   "file_extension": ".py",
   "mimetype": "text/x-python",
   "name": "python",
   "nbconvert_exporter": "python",
   "pygments_lexer": "ipython3",
   "version": "3.6.5"
  }
 },
 "nbformat": 4,
 "nbformat_minor": 2
}